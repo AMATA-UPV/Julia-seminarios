{
 "cells": [
  {
   "cell_type": "markdown",
   "id": "assigned-covering",
   "metadata": {},
   "source": [
    "![Julia](../img/julia-logo-color.PNG)\n",
    "# Documentando con LaTeX"
   ]
  },
  {
   "cell_type": "markdown",
   "id": "comfortable-lease",
   "metadata": {},
   "source": [
    "IJulia permite documentar con [markdown](https://docs.julialang.org/en/v1/stdlib/Markdown/) y LaTeX. Normalmente utilizaremos **markdown** para formatear el texto y LaTeX para ecuaciones. En particular, es posible utilizar los siguientes comandos:\n",
    "\n",
    "- Comando pmatrix{}\n",
    "- Comando begin{array}\n",
    "- Delimitadores \\left ... \\right\n",
    "- Subíndices y superíndices\n",
    "- Símbolos griegos\n",
    "- Símbolos matemáticos\n",
    "- Operadores de relación\n",
    "- Flechas\n",
    "- Acentos"
   ]
  },
  {
   "cell_type": "markdown",
   "id": "proof-cassette",
   "metadata": {},
   "source": [
    "Mediante LaTeX vamos a poder editar matrices, vectores y sistemas de ecuaciones de una manera cómoda y con un acabado final de alta calidad. Introduciremos el comando LaTeX entre $$ en una celda tipo markdown."
   ]
  },
  {
   "cell_type": "markdown",
   "id": "seventh-principle",
   "metadata": {},
   "source": [
    "## Comando pmatrix\n",
    "\n",
    "- *Sintaxis:*\n"
   ]
  },
  {
   "cell_type": "raw",
   "id": "regional-fossil",
   "metadata": {},
   "source": [
    " \\pmatrix{}"
   ]
  },
  {
   "cell_type": "markdown",
   "id": "warming-crown",
   "metadata": {},
   "source": [
    "- *Uso:* Permite introducir matrices y vectores delimitados por paréntesis. "
   ]
  },
  {
   "cell_type": "markdown",
   "id": "fitted-travel",
   "metadata": {},
   "source": [
    "**Ejemplos:**: Introduciendo la siguiente expresión,"
   ]
  },
  {
   "cell_type": "raw",
   "id": "powered-exhibition",
   "metadata": {},
   "source": [
    "$A = \\pmatrix{\n",
    "3 & -1 & 2 & 4  \\cr\n",
    "2 & 0  & -1  &  3 \\cr\n",
    "7 & 2  & 1  & 4 \\cr\n",
    "0 & -1 & 2 & 3}$"
   ]
  },
  {
   "cell_type": "markdown",
   "id": "simplified-conflict",
   "metadata": {},
   "source": [
    "Se obtiene como resultado:\n"
   ]
  },
  {
   "cell_type": "markdown",
   "id": "connected-mustang",
   "metadata": {},
   "source": [
    "$A = \\pmatrix{\n",
    "3 & -1 & 2 & 4  \\cr\n",
    "2 & 0  & -1  &  3 \\cr\n",
    "7 & 2  & 1  & 4 \\cr\n",
    "0 & -1 & 2 & 3}$"
   ]
  },
  {
   "cell_type": "markdown",
   "id": "limiting-ghost",
   "metadata": {},
   "source": [
    "Observar como las columnas se separan con ```&```, y las filas con ```\\cr```. En este otro ejemplo introducimos un vector columna:\n"
   ]
  },
  {
   "cell_type": "raw",
   "id": "balanced-graphic",
   "metadata": {},
   "source": [
    "$b = \\pmatrix{2 \\cr -1 \\cr 3 \\cr 9}$"
   ]
  },
  {
   "cell_type": "markdown",
   "id": "alive-share",
   "metadata": {},
   "source": [
    "$b = \\pmatrix{2 \\cr -1 \\cr 3 \\cr 9}$"
   ]
  },
  {
   "cell_type": "markdown",
   "id": "laughing-quarter",
   "metadata": {},
   "source": [
    "Si queremos introducir la matriz y el vector en la misma línea separados por coma, escribiríamos:"
   ]
  },
  {
   "cell_type": "raw",
   "id": "alternate-sherman",
   "metadata": {},
   "source": [
    "$A = \\pmatrix{\n",
    "3 & -1 & 2 & 4  \\cr\n",
    "2 & 0  & -1  &  3 \\cr\n",
    "7 & 2  & 1  & 4 \\cr\n",
    "0 & -1 & 2 & 3}, \\ b = \\pmatrix{2 \\cr -1 \\cr 3 \\cr 9}.$"
   ]
  },
  {
   "cell_type": "markdown",
   "id": "modular-majority",
   "metadata": {},
   "source": [
    "Obteniendo,"
   ]
  },
  {
   "cell_type": "markdown",
   "id": "loving-rainbow",
   "metadata": {},
   "source": [
    "$A = \\pmatrix{ 3 & -1 & 2 & 4 \\cr 2 & 0 & -1 & 3 \\cr 7 & 2 & 1 & 4 \\cr 0 & -1 & 2 & 3}, \\ b = \\pmatrix{2 \\cr -1 \\cr 3 \\cr 9}$"
   ]
  },
  {
   "cell_type": "markdown",
   "id": "pharmaceutical-mining",
   "metadata": {},
   "source": [
    "En la ecuación anterior, se ha utilizado la contra barra ```\\``` para introducir espacios de separación en blanco."
   ]
  },
  {
   "cell_type": "markdown",
   "id": "imported-mineral",
   "metadata": {},
   "source": [
    "## Comando begin{array}"
   ]
  },
  {
   "cell_type": "markdown",
   "id": "humanitarian-technician",
   "metadata": {},
   "source": [
    "- *Sintaxis* :"
   ]
  },
  {
   "cell_type": "raw",
   "id": "urban-orleans",
   "metadata": {},
   "source": [
    "\\begin{array}...\\end{array}"
   ]
  },
  {
   "cell_type": "markdown",
   "id": "solved-innocent",
   "metadata": {},
   "source": [
    "- *uso*:"
   ]
  },
  {
   "cell_type": "markdown",
   "id": "incoming-truth",
   "metadata": {},
   "source": [
    " Mediante este comando también se pueden introducir matrices y vectores, pero nos permite tener control sobre el tipo de delimitador pudiendo elegir entre llave, corchete, paréntesis o ninguno. Su sintaxis es la siguiente:\n",
    " "
   ]
  },
  {
   "cell_type": "raw",
   "id": "confidential-bankruptcy",
   "metadata": {},
   "source": [
    "\\begin{array}{col1col2…coln}\n",
    "item11 & item12 … & item1n\\\\\n",
    "item21 & item22 … & item2n\\\\\n",
    "...\n",
    "itemm1 & itemm2 … & itemmn\n",
    "\\end{array}"
   ]
  },
  {
   "cell_type": "markdown",
   "id": "inclusive-miami",
   "metadata": {},
   "source": [
    " Cada ```col1, col2,...,``` es un letra de formato por cada columna de la tabla o matriz que indica como irá alineado su contenido:"
   ]
  },
  {
   "cell_type": "markdown",
   "id": "controlling-teaching",
   "metadata": {},
   "source": [
    "```c``` - para centrar la columna\n",
    "```l``` - para ajustar a la izquierda\n",
    "```r```- para ajustar a la derecha.\n",
    "\n",
    "Si se necesita una línea horizontal se puede utilizar ```\\hline```. En una filas, las columnas se separan por ```&``` (como en ```\\pmatrix```), y las filas se separan con doble contra barra ```\\\\```. "
   ]
  },
  {
   "cell_type": "markdown",
   "id": "mexican-republican",
   "metadata": {},
   "source": [
    "**Ejemplos:**\n",
    "\n",
    "Veamos como dibujar una tabla:\n"
   ]
  },
  {
   "cell_type": "raw",
   "id": "scenic-saver",
   "metadata": {},
   "source": [
    "$\\begin{array}{lcr}\n",
    "izquierda & centro & derecha\\\\\n",
    "\\hline\n",
    "d & e & f\n",
    "\\end{array}$"
   ]
  },
  {
   "cell_type": "markdown",
   "id": "opened-radius",
   "metadata": {},
   "source": [
    "El resultado es,"
   ]
  },
  {
   "cell_type": "markdown",
   "id": "sporting-reduction",
   "metadata": {},
   "source": [
    "$\\begin{array}{lcr}\n",
    "izquierda & centro & derecha\\\\\n",
    "\\hline\n",
    "d & e & f\n",
    "\\end{array}$"
   ]
  },
  {
   "cell_type": "markdown",
   "id": "democratic-drunk",
   "metadata": {},
   "source": [
    "Además de tablas, el comando ```\\begin{array}``` lo podemos utilizar para introducir matrices, vectores y sistemas de ecuaciones con diferentes delimitadores. Así, el código"
   ]
  },
  {
   "cell_type": "raw",
   "id": "atlantic-smart",
   "metadata": {},
   "source": [
    "$\\left[ \\begin{array}{cccc}\n",
    "a_{11} & a_{12} & a_{13} & a_{14} \\\\\n",
    "a_{21} & a_{22} & a_{23} & a_{24} \n",
    "\\end{array} \\right]$"
   ]
  },
  {
   "cell_type": "markdown",
   "id": "genetic-cleaner",
   "metadata": {},
   "source": [
    "produce como resultado:"
   ]
  },
  {
   "cell_type": "markdown",
   "id": "confidential-broad",
   "metadata": {},
   "source": [
    "$\\left[ \\begin{array}{cccc}\n",
    "a_{11} & a_{12} & a_{13} & a_{14} \\\\\n",
    "a_{21} & a_{22} & a_{23} & a_{24} \n",
    "\\end{array} \\right]$"
   ]
  },
  {
   "cell_type": "markdown",
   "id": "described-penny",
   "metadata": {},
   "source": [
    "En este ejemplo, ``` \\left[ ...\\right]``` son los corchetes delimitadores de la matriz introducida."
   ]
  },
  {
   "cell_type": "markdown",
   "id": "opened-times",
   "metadata": {},
   "source": [
    "## Delimitadores \\left,\\right"
   ]
  },
  {
   "cell_type": "markdown",
   "id": "verified-packing",
   "metadata": {},
   "source": [
    "**uso**"
   ]
  },
  {
   "cell_type": "markdown",
   "id": "alone-assembly",
   "metadata": {},
   "source": [
    "principalmente para enmarcar las matrices y sistemas lineales definidos con el comando ```\\begin{array}```.  Los delimitadores que podemos especificar son:"
   ]
  },
  {
   "cell_type": "markdown",
   "id": "twenty-dryer",
   "metadata": {},
   "source": [
    "- \\left[ ...\\right]\n",
    "- \\left\\{ ...\\right\\}\n",
    "- \\left( ...\\right)\n",
    "- \\left. ,  \\right."
   ]
  },
  {
   "cell_type": "markdown",
   "id": "successful-acquisition",
   "metadata": {},
   "source": [
    "**Ejemplos**: El Código:"
   ]
  },
  {
   "cell_type": "raw",
   "id": "distributed-slovakia",
   "metadata": {},
   "source": [
    "\\left( \\begin{array}{cccc}\n",
    "a_{11} & a_{12} & a_{13} & a_{14} \\\\\n",
    "a_{21} & a_{22} & a_{23} & a_{24} \n",
    "\\end{array} \\right) \\ , \n",
    "\\left\\{ \\begin{array}{cccc}\n",
    "a_{11} & a_{12} & a_{13} & a_{14} \\\\\n",
    "a_{21} & a_{22} & a_{23} & a_{24} \n",
    "\\end{array} \\right\\}"
   ]
  },
  {
   "cell_type": "markdown",
   "id": "competent-viewer",
   "metadata": {},
   "source": [
    "produce el resultado:"
   ]
  },
  {
   "cell_type": "markdown",
   "id": "painted-honor",
   "metadata": {},
   "source": [
    "$\\left( \\begin{array}{cccc}\n",
    "a_{11} & a_{12} & a_{13} & a_{14} \\\\\n",
    "a_{21} & a_{22} & a_{23} & a_{24} \n",
    "\\end{array} \\right) \\ , \n",
    "\\left\\{ \\begin{array}{cccc}\n",
    "a_{11} & a_{12} & a_{13} & a_{14} \\\\\n",
    "a_{21} & a_{22} & a_{23} & a_{24} \n",
    "\\end{array} \\right\\}$"
   ]
  },
  {
   "cell_type": "markdown",
   "id": "strange-agent",
   "metadata": {},
   "source": [
    "Este segundo ejemplo muestra como definir un sitema de ecuaciones lineales. El sistema"
   ]
  },
  {
   "cell_type": "markdown",
   "id": "sweet-carol",
   "metadata": {},
   "source": [
    "$\\left. \\begin{array}{ccccc}\n",
    "2x_1 & -x_2 & +3x_3 & -x_4 & = & 2 \\\\\n",
    "x_1 & +2x_2 &  & +3x_4 & = & 1 \\\\\n",
    "-x_1 &  & +2x_3 & +x_4 & = & 0\n",
    "\\end{array} \\right\\}$"
   ]
  },
  {
   "cell_type": "markdown",
   "id": "fleet-trance",
   "metadata": {},
   "source": [
    "se define con el código:"
   ]
  },
  {
   "cell_type": "raw",
   "id": "disabled-advocate",
   "metadata": {},
   "source": [
    "\\left. \\begin{array}{ccccc}\n",
    "2x_1 & -x_2 & +3x_3 & -x_4 & = & 2 \\\\\n",
    "x_1 & +2x_2 &  & +3x_4 & = & 1 \\\\\n",
    "-x_1 &  & +2x_3 & +x_4 & = & 0\n",
    "\\end{array} \\right\\}"
   ]
  },
  {
   "cell_type": "markdown",
   "id": "genuine-virgin",
   "metadata": {},
   "source": [
    "Notar el uso de los delimitadores  ```\\left.  .... \\right\\}```. Un delimitador por la izquierda ```\\left``` debe ir acompañado de otro delimitador por la derecha ```\\right```, y viceversa. Por eso, si no queremos que en el resultado final \"visualmente\" no aparezca delimitador en alguno de los lados, se utiliza el delimitador especial ```\\left.``` o ```\\right.```, sin olvidar el \"punto\"."
   ]
  },
  {
   "cell_type": "markdown",
   "id": "swedish-multiple",
   "metadata": {},
   "source": [
    "## Subíndices y superíndices"
   ]
  },
  {
   "cell_type": "markdown",
   "id": "logical-circulation",
   "metadata": {},
   "source": [
    "**Uso**"
   ]
  },
  {
   "cell_type": "markdown",
   "id": "normal-demonstration",
   "metadata": {},
   "source": [
    "Para introducir subíndices y superíndices se utiliza los símbolos ```^```  y  ```_```"
   ]
  },
  {
   "cell_type": "markdown",
   "id": "indoor-ridge",
   "metadata": {},
   "source": [
    "**Ejemplos**"
   ]
  },
  {
   "cell_type": "markdown",
   "id": "following-collins",
   "metadata": {},
   "source": [
    "```$p(x) = x^3 + x^2 - x^{-1}$```, produce como resultado, "
   ]
  },
  {
   "cell_type": "markdown",
   "id": "worst-mitchell",
   "metadata": {},
   "source": [
    "$p(x) = x^3 + x^2 - x^{-1}$"
   ]
  },
  {
   "cell_type": "markdown",
   "id": "interpreted-decline",
   "metadata": {},
   "source": [
    "La ecuación $2x_1 + 3x_3 - x_4 + x_5 = 10$ se puede introducir como:"
   ]
  },
  {
   "cell_type": "markdown",
   "id": "collaborative-aviation",
   "metadata": {},
   "source": [
    "```$2x_1 + 3x_3 - x_4 + x_5 = 10$```"
   ]
  },
  {
   "cell_type": "markdown",
   "id": "proprietary-exercise",
   "metadata": {},
   "source": [
    "## Operadores frac y over"
   ]
  },
  {
   "cell_type": "markdown",
   "id": "broad-shelf",
   "metadata": {},
   "source": [
    "**Uso**"
   ]
  },
  {
   "cell_type": "markdown",
   "id": "familiar-criminal",
   "metadata": {},
   "source": [
    "Definir fracciones:"
   ]
  },
  {
   "cell_type": "markdown",
   "id": "designing-magic",
   "metadata": {},
   "source": [
    "**Ejemplos**"
   ]
  },
  {
   "cell_type": "markdown",
   "id": "explicit-armor",
   "metadata": {},
   "source": [
    "\\begin{array}{lcc}\n",
    "Comando & & Resultado \\\\\n",
    "\\hline\n",
    "\\texttt{a \\\\over  b  } & \\quad & {a \\over b} \\\\\n",
    "\\texttt{\\\\frac\\{a\\}\\{b\\} } &  \\quad & \\frac{a}{b}\n",
    "\\end{array}"
   ]
  },
  {
   "cell_type": "markdown",
   "id": "familiar-costs",
   "metadata": {},
   "source": [
    "## Símbolos griegos"
   ]
  },
  {
   "cell_type": "markdown",
   "id": "pretty-making",
   "metadata": {},
   "source": [
    "En la siguiente tabla se recogen algunos símbolos griegos habitualmente utilizados en Álgebra."
   ]
  },
  {
   "cell_type": "markdown",
   "id": "contrary-violation",
   "metadata": {},
   "source": [
    "\\begin{array}{lcc}\n",
    "Símbolo & & Resultado \\\\\n",
    "\\hline\n",
    "\\texttt{\\\\alpha} & \\quad & {\\alpha} \\\\\n",
    "\\texttt{\\\\beta} & \\quad & {\\beta} \\\\\n",
    "\\texttt{\\\\epsilon} & \\quad & {\\epsilon} \\\\\n",
    "\\texttt{\\\\gamma} & \\quad & {\\gamma} \\\\\n",
    "\\texttt{\\\\lambda} & \\quad & {\\lambda} \\\\\n",
    "\\texttt{\\\\omega} & \\quad & {\\omega} \\\\\n",
    "\\texttt{\\\\mu} & \\quad & {\\mu} \\\\\n",
    "\\end{array}"
   ]
  },
  {
   "cell_type": "markdown",
   "id": "random-printing",
   "metadata": {},
   "source": [
    "## Símbolos matemáticos"
   ]
  },
  {
   "cell_type": "markdown",
   "id": "limited-service",
   "metadata": {},
   "source": [
    "En la siguiente tabla se recogen operadores matemáticos y de relación que suelen utilizarse en la asignatura."
   ]
  },
  {
   "cell_type": "markdown",
   "id": "hundred-henry",
   "metadata": {},
   "source": [
    "\\begin{array}{lcc}\n",
    "Símbolo & & Resultado \\\\\n",
    "\\hline\n",
    "\\texttt{\\\\sum} & \\quad & {\\sum} \\\\\n",
    "\\texttt{\\\\oplus} & \\quad & {\\oplus} \\\\\n",
    "\\texttt{\\\\otimes} & \\quad & {\\otimes} \\\\\n",
    "\\texttt{\\\\pm} & \\quad & {\\pm} \\\\\n",
    "\\texttt{\\\\perp} & \\quad & {\\perp} \\\\\n",
    "\\texttt{\\\\prod} & \\quad & {\\prod} \\\\\n",
    "\\texttt{\\\\int} & \\quad & {\\int} \\\\\n",
    "\\texttt{\\\\exists} & \\quad & {\\exists} \\\\\n",
    "\\texttt{\\\\forall} & \\quad & {\\forall} \\\\\n",
    "\\texttt{\\\\infty} & \\quad & {\\infty} \\\\\n",
    "\\texttt{\\\\emptyset} & \\quad & {\\emptyset} \\\\\n",
    "\\texttt{\\\\vert} & \\quad & {\\vert} \\\\\n",
    "\\texttt{\\\\Vert} & \\quad & {\\Vert} \\\\\n",
    "\\texttt{\\\\backslash} & \\quad & {\\backslash} \\\\\n",
    "\\texttt{\\\\choose} & \\quad & {\\choose} \\\\\n",
    "\\end{array}"
   ]
  },
  {
   "cell_type": "markdown",
   "id": "worse-michigan",
   "metadata": {},
   "source": [
    "Se pueden poner límites a los sumatorios, producto, integral, etc,... mediante ```\\limits```. El código"
   ]
  },
  {
   "cell_type": "raw",
   "id": "continuous-macro",
   "metadata": {},
   "source": [
    "$\\sum\\limits_{a}^{b}$, $\\prod\\limits_{a}^{b}$, $\\int\\limits_{a}^{b}$"
   ]
  },
  {
   "cell_type": "markdown",
   "id": "martial-offense",
   "metadata": {},
   "source": [
    "Da como resultado,"
   ]
  },
  {
   "cell_type": "markdown",
   "id": "protecting-tragedy",
   "metadata": {},
   "source": [
    "$\\sum\\limits_{a}^{b}$, $\\prod\\limits_{a}^{b}$, $\\int\\limits_{a}^{b}$"
   ]
  },
  {
   "cell_type": "markdown",
   "id": "powerful-calvin",
   "metadata": {},
   "source": [
    "Observad la diferencia en la colocación de los límites si solamente utilizamos los marcadores de subíndice y superíndice:"
   ]
  },
  {
   "cell_type": "raw",
   "id": "scientific-canal",
   "metadata": {},
   "source": [
    "$\\sum_a^b$ "
   ]
  },
  {
   "cell_type": "markdown",
   "id": "tested-maria",
   "metadata": {},
   "source": [
    "Da como resultado,"
   ]
  },
  {
   "cell_type": "markdown",
   "id": "standing-california",
   "metadata": {},
   "source": [
    "$\\sum_a^b$"
   ]
  },
  {
   "cell_type": "markdown",
   "id": "infinite-spell",
   "metadata": {},
   "source": [
    "## Operadores relacionales"
   ]
  },
  {
   "cell_type": "markdown",
   "id": "rolled-farming",
   "metadata": {},
   "source": [
    "Algunos operadores de relación."
   ]
  },
  {
   "cell_type": "markdown",
   "id": "straight-saying",
   "metadata": {},
   "source": [
    "\\begin{array}{lcc}\n",
    "Operador & & Resultado \\\\\n",
    "\\hline\n",
    "\\texttt{\\\\equiv} & \\quad & {\\equiv} \\\\\n",
    "\\texttt{\\\\simeq} & \\quad & {\\simeq} \\\\\n",
    "\\texttt{\\\\ne} & \\quad & {\\ne} \\\\\n",
    "\\texttt{<, \\\\le} & \\quad & {< \\ ,\\ \\le} \\\\\n",
    "\\texttt{>, \\\\ge} & \\quad & {> \\ ,\\ \\ge} \\\\\n",
    "\\texttt{\\\\subset , \\\\subseteq} & \\quad & {\\subset \\ , \\ \\subseteq} \\\\\n",
    "\\texttt{\\\\supset , \\\\supseteq} & \\quad & {\\supset \\ , \\ \\supseteq} \\\\\n",
    "\\texttt{\\\\cap} & \\quad & {\\cap} \\\\\n",
    "\\texttt{\\\\cup} & \\quad & {\\cup} \\\\\n",
    "\\texttt{\\\\in , \\\\notin} & \\quad & {\\in \\ , \\ \\notin} \\\\\n",
    "\\texttt{\\\\iff} & \\quad & {\\iff} \\\\\n",
    "\\texttt{\\\\to} & \\quad & {\\to} \n",
    "\\end{array}"
   ]
  },
  {
   "cell_type": "markdown",
   "id": "french-diamond",
   "metadata": {},
   "source": [
    "## Acentos"
   ]
  },
  {
   "cell_type": "markdown",
   "id": "invisible-dynamics",
   "metadata": {},
   "source": [
    "\\begin{array}{lcc}\n",
    "Acento & & Resultado \\\\\n",
    "\\hline\n",
    "\\texttt{\\\\dot a} & \\quad & {\\dot a} \\\\\n",
    "\\texttt{\\\\tilde a} & \\quad & {\\tilde a} \\\\\n",
    "\\texttt{\\\\vec a } & \\quad & {\\vec a}\n",
    "\\end{array}"
   ]
  },
  {
   "cell_type": "markdown",
   "id": "third-chapter",
   "metadata": {},
   "source": [
    "## Funciones matemáticas"
   ]
  },
  {
   "cell_type": "markdown",
   "id": "running-international",
   "metadata": {},
   "source": [
    "\\begin{array}{lcc}\n",
    "Función & & Resultado \\\\\n",
    "\\hline\n",
    "\\texttt{\\\\min} & \\quad & {\\min} \\\\\n",
    "\\texttt{\\\\max} & \\quad & {\\max} \\\\\n",
    "\\texttt{\\\\sqrt a } & \\quad & {\\sqrt a} \\\\\n",
    "\\texttt{\\\\det (A)} & \\quad & {\\det (A)} \\\\\n",
    "\\texttt{\\\\lim} & \\quad & {\\lim} \\\\\n",
    "\\texttt{\\\\dim} & \\quad & {\\dim} \\\\\n",
    "\\texttt{\\\\int} & \\quad & {\\int}  \\\\\n",
    "\\end{array}"
   ]
  }
 ],
 "metadata": {
  "kernelspec": {
   "display_name": "Julia 1.5.3",
   "language": "julia",
   "name": "julia-1.5"
  },
  "language_info": {
   "file_extension": ".jl",
   "mimetype": "application/julia",
   "name": "julia",
   "version": "1.5.3"
  }
 },
 "nbformat": 4,
 "nbformat_minor": 5
}
