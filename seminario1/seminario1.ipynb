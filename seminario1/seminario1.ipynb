{
 "cells": [
  {
   "cell_type": "markdown",
   "metadata": {},
   "source": [
    "[![Julia](../img/julia-logo-color.png)](https://julialang.org/)\n",
    "\n",
    "# Seminario 1. Introducción al lenguaje Julia"
   ]
  },
  {
   "cell_type": "markdown",
   "metadata": {},
   "source": [
    "## Introducción.\n",
    "[Julia](https://julialang.org) es un lenguaje de programación de código abierto, multiplataforma, de alto nivel y alto rendimiento pensado para [cálculo científico](https://discourse.julialang.org/c/domain/10). A destacar:\n",
    "- Julia tiene un compilador JIT (Just In Time) basado en LLVM que le permite igualar el [rendimiento](https://julialang.org/benchmarks/) de lenguajes como C y FORTRAN.\n",
    "- Debido a que el código se compila sobre la marcha, puede ejecutar (bits de) código en un [interactivamente en REPL](https://docs.julialang.org/en/v1/stdlib/REPL/), como otros lenguajes interprestados (python, Matlab,...).\n",
    "- Julia se escribe dinámicamente, por ejemplo es posible [cambiar el tipo de una variable](https://docs.julialang.org/en/v1/manual/types/) durante la ejecución.\n",
    "- Julia permite envío múltiple ([multiple dispatching](https://docs.julialang.org/en/v1/manual/methods/)) para funciones lo que permiten que éstas tengan diferentes comportamientos en función de sus argumentos\n",
    "- Julia está diseñado para [paralelismo](https://github.com/chriselrod/LoopVectorization.jl) y cálculo distribuido.\n",
    "- Julia es multiparadigma, combina características de lenguajes imperativos, funcionales y orientados a objetos.\n",
    "- Julia tiene un [administrador de paquetes](https://docs.julialang.org/en/v1/stdlib/Pkg/index.html) integrado.\n",
    "- Julia tiene muchas [funciones matemáticas](https://docs.julialang.org/en/v1/base/math/) integradas, incluidas funciones especiales, y admite números complejos desde el primer momento.\n",
    "- Julia permite llamar a funciones escritas en otros lenguajes, [C, Fortran,,...](https://docs.julialang.org/en/v1/manual/calling-c-and-fortran-code/).\n",
    "- Julia es reproducible mediante la definición de [entorno de ejecución](https://julialang.github.io/Pkg.jl/v1/environments/). Esto permite que los resultados obtenidos con nuestros algoritmos sean fácilmente reproducidos por la comunidad científica ([The Turing Way](https://the-turing-way.netlify.app/welcome.html))."
   ]
  },
  {
   "cell_type": "markdown",
   "metadata": {},
   "source": [
    "## Objetivos del seminario."
   ]
  },
  {
   "cell_type": "markdown",
   "metadata": {},
   "source": [
    "- Instalación de entorno de trabajo\n",
    "- Sintáxis básica del lenguaje"
   ]
  },
  {
   "cell_type": "markdown",
   "metadata": {},
   "source": [
    "## Instalación"
   ]
  },
  {
   "cell_type": "markdown",
   "metadata": {},
   "source": [
    "La instalación del lenguaje Julia y diferentes entornos de programación se puede consultar en el fichero [README.md](https://github.com/AMATA-UPV/Julia-seminarios.git) del repositorio de los seminarios en [GitHub](https://github.com/AMATA-UPV). A modo de resumen, podemos ejectuar Julia en nuestro propio ordenador utilizando la consola REPL y un sencillo editor, un entorno integrado de desarrollo, o bien ejecutarlo en la nube sin necesidad de instalación local. Para estos seminarios vamos a instalar Julia localmente y desarrollaremos código mediante IJulia."
   ]
  },
  {
   "cell_type": "markdown",
   "metadata": {},
   "source": [
    "## Sintáxis básica del lenguaje"
   ]
  },
  {
   "cell_type": "markdown",
   "metadata": {},
   "source": [
    "### Variables"
   ]
  },
  {
   "cell_type": "code",
   "execution_count": 1,
   "metadata": {},
   "outputs": [
    {
     "data": {
      "text/plain": [
       "2"
      ]
     },
     "execution_count": 1,
     "metadata": {},
     "output_type": "execute_result"
    }
   ],
   "source": [
    "# Asignar el valor 2 a la variable x\n",
    "x = 2"
   ]
  },
  {
   "cell_type": "code",
   "execution_count": 2,
   "metadata": {},
   "outputs": [
    {
     "data": {
      "text/plain": [
       "7"
      ]
     },
     "execution_count": 2,
     "metadata": {},
     "output_type": "execute_result"
    }
   ],
   "source": [
    "# Operaciones aritméticas\n",
    "y = x + 5"
   ]
  },
  {
   "cell_type": "code",
   "execution_count": 3,
   "metadata": {},
   "outputs": [
    {
     "data": {
      "text/plain": [
       "4"
      ]
     },
     "execution_count": 3,
     "metadata": {},
     "output_type": "execute_result"
    }
   ],
   "source": [
    "2x"
   ]
  },
  {
   "cell_type": "code",
   "execution_count": 4,
   "metadata": {},
   "outputs": [
    {
     "data": {
      "text/plain": [
       "true"
      ]
     },
     "execution_count": 4,
     "metadata": {},
     "output_type": "execute_result"
    }
   ],
   "source": [
    "2*x == 2x"
   ]
  },
  {
   "cell_type": "code",
   "execution_count": 5,
   "metadata": {},
   "outputs": [
    {
     "data": {
      "text/plain": [
       "\"Hola Mundo!\""
      ]
     },
     "execution_count": 5,
     "metadata": {},
     "output_type": "execute_result"
    }
   ],
   "source": [
    "# Reasignar valores, incluso de otros tipos, como cadenas de texto\n",
    "x = \"Hola Mundo!\""
   ]
  },
  {
   "cell_type": "markdown",
   "metadata": {},
   "source": [
    "Es posible nombrar variables con [Unicode (UTF-8)](https://docs.julialang.org/en/v1/manual/unicode-input/). Por ejemplo ```\\delta-tab- = 0.001``` define la siguiente variable:"
   ]
  },
  {
   "cell_type": "code",
   "execution_count": 7,
   "metadata": {},
   "outputs": [
    {
     "data": {
      "text/plain": [
       "0.001"
      ]
     },
     "execution_count": 7,
     "metadata": {},
     "output_type": "execute_result"
    }
   ],
   "source": [
    "δ = 0.001"
   ]
  },
  {
   "cell_type": "markdown",
   "metadata": {},
   "source": [
    "También expresiones más elaboradas como lo haríamos en LaTeX: la variable $\\hat \\alpha^2$ la introducimos con al secuencia ```\\alpha-tab-\\hat-tab-^2-tab-```"
   ]
  },
  {
   "cell_type": "code",
   "execution_count": 52,
   "metadata": {},
   "outputs": [
    {
     "data": {
      "text/plain": [
       "2.0"
      ]
     },
     "execution_count": 52,
     "metadata": {},
     "output_type": "execute_result"
    }
   ],
   "source": [
    "α̂² = 2.0"
   ]
  },
  {
   "cell_type": "code",
   "execution_count": 53,
   "metadata": {},
   "outputs": [
    {
     "data": {
      "text/plain": [
       "1.4142135623730951"
      ]
     },
     "execution_count": 53,
     "metadata": {},
     "output_type": "execute_result"
    }
   ],
   "source": [
    "# Podemos operar con una variable en UTF-8 como con cualquier otra\n",
    "sqrt(α̂²)"
   ]
  },
  {
   "cell_type": "markdown",
   "metadata": {},
   "source": [
    "Esta característica nos permite ser creativos !!"
   ]
  },
  {
   "cell_type": "code",
   "execution_count": 13,
   "metadata": {},
   "outputs": [
    {
     "data": {
      "text/plain": [
       "\"Jose\""
      ]
     },
     "execution_count": 13,
     "metadata": {},
     "output_type": "execute_result"
    }
   ],
   "source": [
    "😃 = \"Jose\""
   ]
  },
  {
   "cell_type": "code",
   "execution_count": 26,
   "metadata": {},
   "outputs": [
    {
     "data": {
      "text/plain": [
       "\"Pepe\""
      ]
     },
     "execution_count": 26,
     "metadata": {},
     "output_type": "execute_result"
    }
   ],
   "source": [
    "😺 = \"Pepe\""
   ]
  },
  {
   "cell_type": "markdown",
   "metadata": {},
   "source": [
    "Como vemos Julia es bastante flexible para nombrar variables. Como [regla](https://docs.julialang.org/en/v1/manual/variables/) importante que hay que recordar es que el nombre no puede empezar con un número, ni palabras reservadas del lenguaje."
   ]
  },
  {
   "cell_type": "code",
   "execution_count": 41,
   "metadata": {},
   "outputs": [],
   "source": [
    "😃 == 😺;"
   ]
  },
  {
   "cell_type": "code",
   "execution_count": 44,
   "metadata": {},
   "outputs": [
    {
     "data": {
      "text/plain": [
       "false"
      ]
     },
     "execution_count": 44,
     "metadata": {},
     "output_type": "execute_result"
    }
   ],
   "source": [
    "ans"
   ]
  },
  {
   "cell_type": "markdown",
   "metadata": {},
   "source": [
    "Vaya, al igual que en Matlab tenemos la variable ```ans```  disponible. Y un ```;``` al final \"silencia\" el resultado. Introducir comentarios en el código está claro, ¿no?"
   ]
  },
  {
   "cell_type": "markdown",
   "metadata": {},
   "source": [
    "**Ejercicio**. Definir la variable $\\hat \\psi$ y asignarle el valor $10^{-2}$."
   ]
  },
  {
   "cell_type": "code",
   "execution_count": null,
   "metadata": {},
   "outputs": [],
   "source": []
  },
  {
   "cell_type": "markdown",
   "metadata": {},
   "source": [
    "### Tipos de datos numéricos"
   ]
  },
  {
   "cell_type": "markdown",
   "metadata": {},
   "source": [
    "#### Números Enteros"
   ]
  },
  {
   "cell_type": "markdown",
   "metadata": {},
   "source": [
    "- ```IntN | UIntN```, con N ∈ {8, 16, 32, 64, 128}, ```BigInt```"
   ]
  },
  {
   "cell_type": "code",
   "execution_count": 55,
   "metadata": {},
   "outputs": [
    {
     "data": {
      "text/plain": [
       "Int64"
      ]
     },
     "execution_count": 55,
     "metadata": {},
     "output_type": "execute_result"
    }
   ],
   "source": [
    "# Por defecto el tipo de los enteros depende de la arquitectura de la máquina, generalmente Int64\n",
    "\n",
    "typeof(1)"
   ]
  },
  {
   "cell_type": "markdown",
   "metadata": {},
   "source": [
    "Los valores máximo y mínimo de cada tipo de número se pueden consultar con las funciones ```typemin``` y ```typemax```"
   ]
  },
  {
   "cell_type": "code",
   "execution_count": 50,
   "metadata": {},
   "outputs": [
    {
     "name": "stdout",
     "output_type": "stream",
     "text": [
      "   Int8:[(-128,127]\n",
      "  Int16:[(-32768,32767]\n",
      "  Int32:[(-2147483648,2147483647]\n",
      "  Int64:[(-9223372036854775808,9223372036854775807]\n",
      " Int128:[(-170141183460469231731687303715884105728,170141183460469231731687303715884105727]\n",
      "  UInt8:[(0,255]\n",
      " UInt16:[(0,65535]\n",
      " UInt32:[(0,4294967295]\n",
      " UInt64:[(0,18446744073709551615]\n",
      "UInt128:[(0,340282366920938463463374607431768211455]\n"
     ]
    }
   ],
   "source": [
    "for T in [Int8, Int16, Int32, Int64, Int128, UInt8, UInt16, UInt32, UInt64, UInt128]\n",
    "    println(\"$(lpad(T,7)):[($(typemin(T)),$(typemax(T))]\")\n",
    "end"
   ]
  },
  {
   "cell_type": "markdown",
   "metadata": {},
   "source": [
    "El código anterior muestra el uso del bucle ```for```, el tipo ```string``` y la interpolación ```$()```."
   ]
  },
  {
   "cell_type": "markdown",
   "metadata": {},
   "source": [
    "#### Números en coma flotante"
   ]
  },
  {
   "cell_type": "markdown",
   "metadata": {},
   "source": [
    "- ```FloatN``` con N ∈ {16, 32, 64}, BigFloat"
   ]
  },
  {
   "cell_type": "code",
   "execution_count": 46,
   "metadata": {},
   "outputs": [
    {
     "data": {
      "text/plain": [
       "Float64"
      ]
     },
     "execution_count": 46,
     "metadata": {},
     "output_type": "execute_result"
    }
   ],
   "source": [
    "typeof(1.0)"
   ]
  },
  {
   "cell_type": "markdown",
   "metadata": {},
   "source": [
    "**Ejercicio** Mostrar los valores mínimo y máximo para los tipos ```FloatN```"
   ]
  },
  {
   "cell_type": "code",
   "execution_count": null,
   "metadata": {},
   "outputs": [],
   "source": []
  },
  {
   "cell_type": "markdown",
   "metadata": {},
   "source": [
    "Podemos introducir números en coma flotante de diferentes formas:"
   ]
  },
  {
   "cell_type": "code",
   "execution_count": 59,
   "metadata": {},
   "outputs": [
    {
     "data": {
      "text/plain": [
       "0.2"
      ]
     },
     "execution_count": 59,
     "metadata": {},
     "output_type": "execute_result"
    }
   ],
   "source": [
    ".2"
   ]
  },
  {
   "cell_type": "code",
   "execution_count": 57,
   "metadata": {},
   "outputs": [
    {
     "data": {
      "text/plain": [
       "100000.0"
      ]
     },
     "execution_count": 57,
     "metadata": {},
     "output_type": "execute_result"
    }
   ],
   "source": [
    "1e5"
   ]
  },
  {
   "cell_type": "code",
   "execution_count": 58,
   "metadata": {},
   "outputs": [
    {
     "data": {
      "text/plain": [
       "-0.0125"
      ]
     },
     "execution_count": 58,
     "metadata": {},
     "output_type": "execute_result"
    }
   ],
   "source": [
    "-1.25e-2"
   ]
  },
  {
   "cell_type": "code",
   "execution_count": 60,
   "metadata": {},
   "outputs": [
    {
     "data": {
      "text/plain": [
       "Float64"
      ]
     },
     "execution_count": 60,
     "metadata": {},
     "output_type": "execute_result"
    }
   ],
   "source": [
    "typeof(ans)"
   ]
  },
  {
   "cell_type": "code",
   "execution_count": 62,
   "metadata": {},
   "outputs": [
    {
     "data": {
      "text/plain": [
       "-0.0125f0"
      ]
     },
     "execution_count": 62,
     "metadata": {},
     "output_type": "execute_result"
    }
   ],
   "source": [
    "-1.25f-2"
   ]
  },
  {
   "cell_type": "code",
   "execution_count": 63,
   "metadata": {},
   "outputs": [
    {
     "data": {
      "text/plain": [
       "Float32"
      ]
     },
     "execution_count": 63,
     "metadata": {},
     "output_type": "execute_result"
    }
   ],
   "source": [
    "typeof(ans)"
   ]
  },
  {
   "cell_type": "markdown",
   "metadata": {},
   "source": [
    "También se representan algunos números especiales,"
   ]
  },
  {
   "cell_type": "markdown",
   "metadata": {},
   "source": [
    "| ```Float16``` | ```Float32``` | ```Float64``` | **Nombre** | **Descripción** |\n",
    "| :------------- | :------------- | :------------- | :---------- | :--------------- |\n",
    "| ```Inf16```   | ```Inf32```   | ```Inf```     | _Infinito positivo_ | Un valor mayor que todos los float finitos |\n",
    "| ```-Inf16```  | ```-Inf32```  | ```-Inf```    | _Infinito negativo_ | Un valor menor que todos los float finitos |\n",
    "| ```NaN16```   | ```NaN32```   | ```NaN```     | _not a number_      | Un valor no ```==``` a cualquier float (incluído el mismo)|"
   ]
  },
  {
   "cell_type": "code",
   "execution_count": 64,
   "metadata": {},
   "outputs": [
    {
     "data": {
      "text/plain": [
       "0.0"
      ]
     },
     "execution_count": 64,
     "metadata": {},
     "output_type": "execute_result"
    }
   ],
   "source": [
    "1 / Inf"
   ]
  },
  {
   "cell_type": "code",
   "execution_count": 66,
   "metadata": {},
   "outputs": [
    {
     "data": {
      "text/plain": [
       "-Inf"
      ]
     },
     "execution_count": 66,
     "metadata": {},
     "output_type": "execute_result"
    }
   ],
   "source": [
    "-2 / 0"
   ]
  },
  {
   "cell_type": "code",
   "execution_count": 67,
   "metadata": {},
   "outputs": [
    {
     "data": {
      "text/plain": [
       "NaN"
      ]
     },
     "execution_count": 67,
     "metadata": {},
     "output_type": "execute_result"
    }
   ],
   "source": [
    "0 / 0"
   ]
  },
  {
   "cell_type": "code",
   "execution_count": 68,
   "metadata": {},
   "outputs": [
    {
     "data": {
      "text/plain": [
       "Inf"
      ]
     },
     "execution_count": 68,
     "metadata": {},
     "output_type": "execute_result"
    }
   ],
   "source": [
    "100 + Inf"
   ]
  },
  {
   "cell_type": "code",
   "execution_count": 69,
   "metadata": {},
   "outputs": [
    {
     "data": {
      "text/plain": [
       "NaN"
      ]
     },
     "execution_count": 69,
     "metadata": {},
     "output_type": "execute_result"
    }
   ],
   "source": [
    "Inf / Inf"
   ]
  },
  {
   "cell_type": "code",
   "execution_count": 70,
   "metadata": {},
   "outputs": [
    {
     "data": {
      "text/plain": [
       "NaN"
      ]
     },
     "execution_count": 70,
     "metadata": {},
     "output_type": "execute_result"
    }
   ],
   "source": [
    "0 * Inf"
   ]
  },
  {
   "cell_type": "markdown",
   "metadata": {},
   "source": [
    "### Operadores aritméticos"
   ]
  },
  {
   "cell_type": "markdown",
   "metadata": {},
   "source": [
    "```+```,```-```,```*```,```/```,```\\```,"
   ]
  },
  {
   "cell_type": "code",
   "execution_count": null,
   "metadata": {},
   "outputs": [],
   "source": []
  }
 ],
 "metadata": {
  "kernelspec": {
   "display_name": "Julia 1.5.3",
   "language": "julia",
   "name": "julia-1.5"
  },
  "language_info": {
   "file_extension": ".jl",
   "mimetype": "application/julia",
   "name": "julia",
   "version": "1.5.3"
  }
 },
 "nbformat": 4,
 "nbformat_minor": 5
}
