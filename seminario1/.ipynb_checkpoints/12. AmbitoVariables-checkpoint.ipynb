{
 "cells": [
  {
   "cell_type": "markdown",
   "metadata": {},
   "source": [
    "[![Julia](../img/julia-logo-color.png)](https://julialang.org/)\n",
    "\n",
    "# Seminario. Introducción al lenguaje Julia"
   ]
  },
  {
   "cell_type": "markdown",
   "metadata": {},
   "source": [
    "## 12. Ámbito de variables"
   ]
  },
  {
   "cell_type": "markdown",
   "metadata": {},
   "source": [
    "## Objetivos"
   ]
  },
  {
   "cell_type": "markdown",
   "metadata": {},
   "source": [
    "- Ámbito de una variable\n",
    "- Ámbito global\n",
    "- Ámbito local\n",
    "- Constantes"
   ]
  },
  {
   "cell_type": "markdown",
   "metadata": {},
   "source": [
    "## Ámbito de una variable"
   ]
  },
  {
   "cell_type": "markdown",
   "metadata": {},
   "source": [
    "El ámbito de una variable es la región del código en la que ésta es visible. El ámbito permite resolver conflictos entre nombres de variables pudiendo utilizar el mismo identificador para objetos diferentes, por ejemplo con dos funciones que usan el mismo nombre para alguno de sus argumentos. En Julia las regiones de código que marcan el ámbito de una variable están asociadas a las siguientes construcciones\n",
    "\n",
    "|  **Construcción**  |  **Tipo de ámbito**  |  **Permitido en**  |\n",
    "| :----------------- | :------------------- | :----------------- | \n",
    "| ```module```       |  _global_            |      _global_      |\n",
    "| ```struct```       |  _local (soft)_      |      _global_      |\n",
    "| ```for```, ```while```, ```try``` |  _local (soft)_     |  _global_, _local_  |\n",
    "| ```macro```        |  _local (hard)_     |      _global_      |\n",
    "| funciones, bloques ```do, let``` |  _local (hard)_     |  _global_, _local_  |"
   ]
  },
  {
   "cell_type": "markdown",
   "metadata": {},
   "source": [
    "## Ámbito global"
   ]
  },
  {
   "cell_type": "markdown",
   "metadata": {},
   "source": [
    "Julia permite la programación estructurada pudiendo encapsular código en módulos. Un módulo encapsula un conjunto de variables y funciones. El ámbito global está asociado a los modulos, es decir, tiene su propio ámbito global. Por ejemplo, "
   ]
  },
  {
   "cell_type": "code",
   "execution_count": null,
   "metadata": {},
   "outputs": [],
   "source": [
    "module A\n",
    "    a = 1  # Variable global en el ámbito del modulo A\n",
    "end;"
   ]
  },
  {
   "cell_type": "markdown",
   "metadata": {},
   "source": [
    "La variable **a** definida en el módulo A, es distinta a cualquier otra variable con el mismo nombre definida en otro ámbito, "
   ]
  },
  {
   "cell_type": "code",
   "execution_count": null,
   "metadata": {},
   "outputs": [],
   "source": [
    "a = 2\n",
    "module A\n",
    "    a = 1  # Variable global en el ámbito del modulo A\n",
    "end;\n",
    "println(a)"
   ]
  },
  {
   "cell_type": "markdown",
   "metadata": {},
   "source": [
    "De esta manera, las funciones definidas en un módulo acceden a las variables globales definidas en él"
   ]
  },
  {
   "cell_type": "code",
   "execution_count": null,
   "metadata": {},
   "outputs": [],
   "source": [
    "module A\n",
    "    a = 1\n",
    "    imprime() = a    # se refiere a la variable a del modulo A\n",
    "end;\n",
    "a = 2         # Esta variable es distinta a la del modulo A\n",
    "A.imprime()   # Muestra A.a"
   ]
  },
  {
   "cell_type": "markdown",
   "metadata": {},
   "source": [
    "Los modulos pueden anidarse, y se puede acceder a las variables globales del módulo \"interno\" con el acceso\n",
    "```julia\n",
    "    *nombre_modulo*.*variable*\n",
    "```"
   ]
  },
  {
   "cell_type": "code",
   "execution_count": null,
   "metadata": {},
   "outputs": [],
   "source": [
    "module B\n",
    "    module C\n",
    "        c = 2 \n",
    "    end\n",
    "    b = C.c   # Acceso al contenido del modulo C\n",
    "end;    "
   ]
  },
  {
   "cell_type": "markdown",
   "metadata": {},
   "source": [
    "Como se ha mencionado, cada módulo define un nuevo ámbito global, aunque puede usar las variables definidas en otros módulos generalmente mediante las sentencias ```using``` o ```import```. Si en el módulo B queremos acceder a las variables de A, tenemos que importarlo de la siguiente manera"
   ]
  },
  {
   "cell_type": "code",
   "execution_count": null,
   "metadata": {},
   "outputs": [],
   "source": [
    "module B\n",
    "    module C\n",
    "        c = 2\n",
    "    end\n",
    "    b = C.c      \n",
    "    import ..A   # Modulo A disponible\n",
    "    d = A.a\n",
    "end; "
   ]
  },
  {
   "cell_type": "markdown",
   "metadata": {},
   "source": [
    "En los entornos interactivos como el REPL o los IJulia notebooks, todas las variables y módulos se declaran o definen en el módulo ```Main```, por lo que es posible acceder a su contenido directamente usando el acceso cualificado apropiado sin necesidad de utilizar ```import``` o ```using```,"
   ]
  },
  {
   "cell_type": "code",
   "execution_count": null,
   "metadata": {},
   "outputs": [],
   "source": [
    "println(\"Variable d = $(B.d)\") "
   ]
  },
  {
   "cell_type": "code",
   "execution_count": null,
   "metadata": {},
   "outputs": [],
   "source": [
    "println(\"Variable c = $(B.C.c)\") "
   ]
  },
  {
   "cell_type": "markdown",
   "metadata": {},
   "source": [
    "Obsérvese esta otra forma de acceder a la variable **c**,"
   ]
  },
  {
   "cell_type": "code",
   "execution_count": null,
   "metadata": {},
   "outputs": [],
   "source": [
    "import .B.C\n",
    "C.c"
   ]
  },
  {
   "cell_type": "markdown",
   "metadata": {},
   "source": [
    "## Ámbito local"
   ]
  },
  {
   "cell_type": "markdown",
   "metadata": {},
   "source": [
    "Julia permite definir variables locales dentro de bloques de código tipo ```struct```, bucles ```for```, ```while```,..., funciones, etc. Como en otros lenguajes, no es necesario declarar las variables pues la asignación a una nueva variable se asume como una declaración implícita. Aún así, Julia también permite la declaración explícita de variables locales. La sentencia ```local x``` declara una nueva variable local ```x``` independientemente de que exista otra variable en el ámbito global con el mismo nombre."
   ]
  },
  {
   "cell_type": "markdown",
   "metadata": {},
   "source": [
    "Ante la sentencia ``` x = <value>``` en un ámbito local, basándose en la posición donde se realiza la asignación y la referencia actual de ```x``` existente, se aplican las siguientes reglas:\n",
    "- Existe ```x``` local: simplemente se realiza la nueva asignación a ```x```.\n",
    "- Ámbito duro (hard scope): si la variable local ```x``` no ha sido ya declarada y la sentencia se realiza dentro de funciones, macros u otras construcciones de ámbito duro (ver tabla arriba), entonces se declara la variable local y se asigna. \n",
    "- Ámbito blando (Soft scope): si la variable local```x``` no ha sido ya declarada, y todas las construcciones que contienen la asignación son _soft_ (bucles, ```try/catch```, ```struct```, el comportamiento depende de si la variable global ```x``` existe o no,\n",
    " - Si ```x``` global no está definida se crea la variable local ```x``` en el ámbito en el que se realiza la asignación.\n",
    " - Si ```x``` global está definida, la asignación se considera ambigua:\n",
    "      - En entornos no interactivos (ficheros, eval), hay un aviso de abigüedad y se crea la variable local.\n",
    "      - En entornos interactivos (REPL, notebooks), se asigna a la variable global ```x```."
   ]
  },
  {
   "cell_type": "markdown",
   "metadata": {},
   "source": [
    "Veamos un primer ejemplo relativo al **hard scope**"
   ]
  },
  {
   "cell_type": "code",
   "execution_count": null,
   "metadata": {},
   "outputs": [],
   "source": [
    "x = 55   # Variable en ámbito global\n",
    "function rocks()\n",
    "    x = \"Julia rocks\"  # Nueva x local\n",
    "    println(x)\n",
    "end"
   ]
  },
  {
   "cell_type": "markdown",
   "metadata": {},
   "source": [
    "La llamada a la función ```rocks()``` muestra el valor de la variable local definida dentro de ella independientemente de que exista una variable global con el mismo nombre (hard scope)."
   ]
  },
  {
   "cell_type": "code",
   "execution_count": null,
   "metadata": {},
   "outputs": [],
   "source": [
    "rocks()   "
   ]
  },
  {
   "cell_type": "markdown",
   "metadata": {},
   "source": [
    "La variable global no ha sido reasignada y conserva su valor,"
   ]
  },
  {
   "cell_type": "code",
   "execution_count": null,
   "metadata": {},
   "outputs": [],
   "source": [
    "x  # Variable global"
   ]
  },
  {
   "cell_type": "markdown",
   "metadata": {},
   "source": [
    "Cuando ya existe una variable local, simplemente se reasigna el con el nuevo valor. La siguiente función suma los primeros _n_ números naturales,"
   ]
  },
  {
   "cell_type": "code",
   "execution_count": null,
   "metadata": {},
   "outputs": [],
   "source": [
    "function sum_to(n)\n",
    "    s = 0        # Nueva variable local\n",
    "    for i in 1:n\n",
    "        s += i   # Se reasigna la variable local existente\n",
    "    end\n",
    "    return s\n",
    "end"
   ]
  },
  {
   "cell_type": "code",
   "execution_count": null,
   "metadata": {},
   "outputs": [],
   "source": [
    "sum_to(5)"
   ]
  },
  {
   "cell_type": "code",
   "execution_count": null,
   "metadata": {},
   "outputs": [],
   "source": [
    "s  # No existe fuera de la función"
   ]
  },
  {
   "cell_type": "markdown",
   "metadata": {},
   "source": [
    "En el ejemplo anterior, aunque el bucle ```for``` tiene su propio ámbito local, como la variable **s** ya existe no se crea una nueva (soft scope) y simplemente se reasigna la existente. Para aclararlo mejor veamos esta variación de la función anterior,"
   ]
  },
  {
   "cell_type": "code",
   "execution_count": null,
   "metadata": {},
   "outputs": [],
   "source": [
    "function sum_to_def(n)\n",
    "    s = 0        # Nueva variable local\n",
    "    for i in 1:n\n",
    "        t = s + i\n",
    "        s = t   # Se reasigna la variable local existente\n",
    "    end\n",
    "    return s, @isdefined(t)\n",
    "end"
   ]
  },
  {
   "cell_type": "code",
   "execution_count": null,
   "metadata": {},
   "outputs": [],
   "source": [
    "sum_to_def(5)"
   ]
  },
  {
   "cell_type": "markdown",
   "metadata": {},
   "source": [
    "La variable **t** es local al bucle ```for``` y por tanto no está definida fuera de él."
   ]
  },
  {
   "cell_type": "markdown",
   "metadata": {},
   "source": [
    "Las cosas pueden ser un poco más complicadas cuando trabajamos en el ámbito local (soft), es decir, principalmente con variables en bucles. El comportamiento es diferente a si estamos utilizando un entorno interactivo como REPL o notebook(), o bien si estamos directamente ejecutando un fichero (entorno no interactivo). Vamos a extraer el cuerpo de instrucciones de la función ```sum_to``` y comprobaremos qué ocurre cuando ejecutamos interactivamente y cuando lo hacemos ejecutando un fichero,"
   ]
  },
  {
   "cell_type": "code",
   "execution_count": null,
   "metadata": {},
   "outputs": [],
   "source": [
    "s = 0\n",
    "for i = 1:10 # Otra forma del bucle\n",
    "    s = s + i\n",
    "end\n",
    "s"
   ]
  },
  {
   "cell_type": "markdown",
   "metadata": {},
   "source": [
    "Trabajando interactivamente, como el bucle ```for``` tiene un ámbito local soft y la variable global **s** existe, directamente se asigna a ésta. Si no existiera, se crearía una nueva variable local en el ámbito del bucle. Por el contrario, veamos en el caso de ejecutar un fichero. Lo haremos definiendo el código en una variable y utilizando la función ```include_string()``` para evitar editar un fichero aparte"
   ]
  },
  {
   "cell_type": "code",
   "execution_count": null,
   "metadata": {},
   "outputs": [],
   "source": [
    "code = \"\"\"\n",
    "s = 0\n",
    "for i = 1:10\n",
    "    s = s + i\n",
    "end\n",
    "\"\"\";"
   ]
  },
  {
   "cell_type": "code",
   "execution_count": null,
   "metadata": {},
   "outputs": [],
   "source": [
    "include_string(Main, code)"
   ]
  },
  {
   "cell_type": "markdown",
   "metadata": {},
   "source": [
    "En este caso ocurren varias cosas:\n",
    "- Se declara y asigna una variable global **s**\n",
    "- La asignación _s = s + i_ se realiza en ámbito local **soft**, en un bucle fuera de una función.\n",
    "- En el bucle ```for``` se hace referencia a la variable **s** local. Como no está definida se crea local al bucle y se da un aviso de ambigüedad.\n",
    "- Como la variable **s** no estaba definida, hay un error al evaluar la expresión _s = s + i_."
   ]
  },
  {
   "cell_type": "markdown",
   "metadata": {},
   "source": [
    "Para subsanar el problema, y teniendo en cuenta la lógica del código que es incrementar la variable global **s**, podemos declarar la variable ```global``` como sugiere el _Warning_,"
   ]
  },
  {
   "cell_type": "code",
   "execution_count": null,
   "metadata": {},
   "outputs": [],
   "source": [
    "code = \"\"\"\n",
    "s = 0\n",
    "for i = 1:10\n",
    "    global s = s + i\n",
    "end\n",
    "\"\"\";"
   ]
  },
  {
   "cell_type": "code",
   "execution_count": null,
   "metadata": {},
   "outputs": [],
   "source": [
    "include_string(Main, code)\n",
    "s"
   ]
  },
  {
   "cell_type": "markdown",
   "metadata": {},
   "source": [
    "Hay que resaltar nuevamente que esta ambigüedad no se produce en el ámbito local de funciones (hard) ya que en él se ignora cualquier variable global que pudiera existir como se ha visto en ejemplos anteriores. Tampoco en entornos interactivos como el REPL o los Jupyter notebook pues se asume el mismo comportamiento que en funciones, ámbito local _hard_."
   ]
  },
  {
   "cell_type": "markdown",
   "metadata": {},
   "source": [
    "Para finalizar, señalar que las variables de iteración en un bucle son siempre locales, como muestra el siguiente ejemplo"
   ]
  },
  {
   "cell_type": "code",
   "execution_count": null,
   "metadata": {},
   "outputs": [],
   "source": [
    "function f()\n",
    "    i = 0\n",
    "    for i = 1:3\n",
    "        # nada\n",
    "    end\n",
    "    return i\n",
    "end\n",
    "i    "
   ]
  },
  {
   "cell_type": "markdown",
   "metadata": {},
   "source": [
    "## Constantes"
   ]
  },
  {
   "cell_type": "markdown",
   "metadata": {},
   "source": [
    "Se declaran con la palabra reservada ```const```. Se utilizan para variables globales en el ámbito global cuyo valor no va a cambiar (aunque en algunos casos se pude hacer...). La declaración de variables globales constantantes ayuda a mejorar la eficiencia del código. Algunos ejemplos,"
   ]
  },
  {
   "cell_type": "code",
   "execution_count": null,
   "metadata": {},
   "outputs": [],
   "source": [
    "const e  = 2.71828182845904523536;"
   ]
  },
  {
   "cell_type": "code",
   "execution_count": null,
   "metadata": {},
   "outputs": [],
   "source": [
    "e"
   ]
  },
  {
   "cell_type": "code",
   "execution_count": null,
   "metadata": {},
   "outputs": [],
   "source": [
    "Si intentamos modificar el valor de una constante nos podemos encontrar con diferentes situaciones,"
   ]
  },
  {
   "cell_type": "code",
   "execution_count": null,
   "metadata": {},
   "outputs": [],
   "source": [
    "e = 2"
   ]
  },
  {
   "cell_type": "markdown",
   "metadata": {},
   "source": [
    "La asignación anterior no está permitida porque se le asigna un tipo diferente a la constante **e**. En cambio, la siguiente instrucción sí que está permitida aunque no es aconsejable como indica el aviso correspondiente,"
   ]
  },
  {
   "cell_type": "code",
   "execution_count": null,
   "metadata": {},
   "outputs": [],
   "source": [
    "e = 1.0"
   ]
  },
  {
   "cell_type": "code",
   "execution_count": null,
   "metadata": {},
   "outputs": [],
   "source": []
  }
 ],
 "metadata": {
  "kernelspec": {
   "display_name": "Julia 1.5.3",
   "language": "julia",
   "name": "julia-1.5"
  },
  "language_info": {
   "file_extension": ".jl",
   "mimetype": "application/julia",
   "name": "julia",
   "version": "1.5.3"
  }
 },
 "nbformat": 4,
 "nbformat_minor": 5
}
