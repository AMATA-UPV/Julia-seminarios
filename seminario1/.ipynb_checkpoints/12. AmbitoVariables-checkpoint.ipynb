{
 "cells": [
  {
   "cell_type": "markdown",
   "metadata": {},
   "source": [
    "[![Julia](../img/julia-logo-color.png)](https://julialang.org/)\n",
    "\n",
    "# Seminario. Introducción al lenguaje Julia"
   ]
  },
  {
   "cell_type": "markdown",
   "metadata": {},
   "source": [
    "## 12. Ámbito de variables"
   ]
  },
  {
   "cell_type": "markdown",
   "metadata": {},
   "source": [
    "## Objetivos"
   ]
  },
  {
   "cell_type": "markdown",
   "metadata": {},
   "source": [
    "- Ámbito de una variable\n",
    "- Ámbito global\n",
    "- Ámbito local\n",
    "- Constantes"
   ]
  },
  {
   "cell_type": "markdown",
   "metadata": {},
   "source": [
    "## Ámbito de una variable"
   ]
  },
  {
   "cell_type": "markdown",
   "metadata": {},
   "source": [
    "El ámbito de una variable es la región del código en la que ésta es visible. El ámbito permite resolver conflictos entre nombres de variables pudiendo utilizar el mismo identificador para objetos diferentes, por ejemplo con dos funciones que usan el mismo nombre para alguno de sus argumentos. En Julia las regiones de código que marcan el ámbito de una variable están asociadas a las siguientes construcciones\n",
    "\n",
    "|  **Construcción**  |  **Tipo de ámbito**  |  **Permitido en**  |\n",
    "| :----------------- | :------------------- | :----------------- | \n",
    "| ```module```       |  _global_            |      _global_      |\n",
    "| ```struct```       |  _local (soft)_      |      _global_      |\n",
    "| ```for```, ```while```, ```try``` |  _local (soft)_     |  _global_, _local_  |\n",
    "| ```macro```        |  _local (hard)_     |      _global_      |\n",
    "| funciones, bloques ```do, let``` |  _local (hard)_     |  _global_, _local_  |"
   ]
  },
  {
   "cell_type": "markdown",
   "metadata": {},
   "source": [
    "## Ámbito global"
   ]
  },
  {
   "cell_type": "markdown",
   "metadata": {},
   "source": [
    "El ámbito global está asociado a los modulos. Cada módulo define su propia ámbito global. Por ejemplo, "
   ]
  },
  {
   "cell_type": "code",
   "execution_count": null,
   "metadata": {},
   "outputs": [],
   "source": [
    "module A\n",
    "    a = 1  # Variable global en el ámbito del modulo A\n",
    "end;"
   ]
  },
  {
   "cell_type": "markdown",
   "metadata": {},
   "source": [
    "La variable **a** definida en el módulo A, es distinta a cualquier otra variable con el mismo nombre definida en otro ámbito, "
   ]
  },
  {
   "cell_type": "code",
   "execution_count": null,
   "metadata": {},
   "outputs": [],
   "source": [
    "a = 2\n",
    "module A\n",
    "    a = 1  # Variable global en el ámbito del modulo A\n",
    "end;\n",
    "println(a)"
   ]
  },
  {
   "cell_type": "markdown",
   "metadata": {},
   "source": [
    "De esta manera, las funciones definidas en un módulo acceden a las variables globales definidas en él"
   ]
  },
  {
   "cell_type": "code",
   "execution_count": 4,
   "metadata": {},
   "outputs": [
    {
     "name": "stderr",
     "output_type": "stream",
     "text": [
      "WARNING: replacing module A.\n"
     ]
    },
    {
     "data": {
      "text/plain": [
       "1"
      ]
     },
     "execution_count": 4,
     "metadata": {},
     "output_type": "execute_result"
    }
   ],
   "source": [
    "module A\n",
    "    a = 1\n",
    "    imprime() = a    # se refiere a la variable global a del modulo A\n",
    "end;\n",
    "a = 2         # Esta variable es distinta a la del modulo A\n",
    "A.imprime()"
   ]
  },
  {
   "cell_type": "markdown",
   "metadata": {},
   "source": [
    "Los modulos pueden anidarse, y se puede acceder a las variables globales del módulo \"interno\" con el acceso\n",
    "```julia\n",
    "    *nombre_modulo*.*variable*\n",
    "```"
   ]
  },
  {
   "cell_type": "code",
   "execution_count": 5,
   "metadata": {},
   "outputs": [],
   "source": [
    "module B\n",
    "    module C\n",
    "        c = 2 \n",
    "    end\n",
    "    b = C.c   # Acceso al contenido del modulo C\n",
    "end;    "
   ]
  },
  {
   "cell_type": "markdown",
   "metadata": {},
   "source": [
    "Como se ha mencionado, cada módulo define un nuevo ámbito global, aunque puede usar las variables definidas en otros módulos generalmente mediante las sentencias ```using``` o ```import```. Si en el módulo B queremos acceder a las variables de A, tenemos que importarlo de la siguiente manera"
   ]
  },
  {
   "cell_type": "code",
   "execution_count": 6,
   "metadata": {},
   "outputs": [
    {
     "name": "stderr",
     "output_type": "stream",
     "text": [
      "WARNING: replacing module B.\n"
     ]
    }
   ],
   "source": [
    "module B\n",
    "    module C\n",
    "        c = 2\n",
    "    end\n",
    "    b = C.c      \n",
    "    import ..A   # Modulo A disponible\n",
    "    d = A.a\n",
    "end; "
   ]
  },
  {
   "cell_type": "markdown",
   "metadata": {},
   "source": [
    "En los entornos interactivos como el REPL o los IJulia notebooks, todas las variables y módulos se declaran o definen en el módulo ```Main```, por lo que es posible acceder a su contenido directamente usando el acceso cualificado apropiado sin necesidad de utilizar ```import``` o ```using```,"
   ]
  },
  {
   "cell_type": "code",
   "execution_count": 7,
   "metadata": {},
   "outputs": [
    {
     "name": "stdout",
     "output_type": "stream",
     "text": [
      "Variable d = 1\n"
     ]
    }
   ],
   "source": [
    "println(\"Variable d = $(B.d)\") "
   ]
  },
  {
   "cell_type": "code",
   "execution_count": 8,
   "metadata": {},
   "outputs": [
    {
     "name": "stdout",
     "output_type": "stream",
     "text": [
      "Variable c = 2\n"
     ]
    }
   ],
   "source": [
    "println(\"Variable c = $(B.C.c)\") "
   ]
  },
  {
   "cell_type": "markdown",
   "metadata": {},
   "source": [
    "Obsérvese esta otra forma de acceder a la variable **c**,"
   ]
  },
  {
   "cell_type": "code",
   "execution_count": 14,
   "metadata": {},
   "outputs": [
    {
     "data": {
      "text/plain": [
       "2"
      ]
     },
     "execution_count": 14,
     "metadata": {},
     "output_type": "execute_result"
    }
   ],
   "source": [
    "import .B.C\n",
    "C.c"
   ]
  },
  {
   "cell_type": "markdown",
   "metadata": {},
   "source": [
    "## Ámbito local"
   ]
  },
  {
   "cell_type": "code",
   "execution_count": null,
   "metadata": {},
   "outputs": [],
   "source": []
  }
 ],
 "metadata": {
  "kernelspec": {
   "display_name": "Julia 1.5.3",
   "language": "julia",
   "name": "julia-1.5"
  },
  "language_info": {
   "file_extension": ".jl",
   "mimetype": "application/julia",
   "name": "julia",
   "version": "1.5.3"
  }
 },
 "nbformat": 4,
 "nbformat_minor": 5
}
