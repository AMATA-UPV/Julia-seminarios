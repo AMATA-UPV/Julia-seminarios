{
 "cells": [
  {
   "cell_type": "markdown",
   "id": "patent-olympus",
   "metadata": {},
   "source": [
    "[![Julia](../img/julia-logo-color.png)](https://julialang.org/)\n",
    "\n",
    "# Seminario. Introducción al lenguaje Julia"
   ]
  },
  {
   "cell_type": "markdown",
   "id": "alternative-prayer",
   "metadata": {},
   "source": [
    "## 6. Control de flujo"
   ]
  },
  {
   "cell_type": "markdown",
   "id": "alternate-hotel",
   "metadata": {},
   "source": [
    "## Objetivos"
   ]
  },
  {
   "cell_type": "markdown",
   "id": "killing-print",
   "metadata": {},
   "source": [
    "- Operadores de comparación\n",
    "- Operadores relacionales\n",
    "- Ejecución condicional con if\n",
    "- Operador ternario "
   ]
  },
  {
   "cell_type": "markdown",
   "id": "loved-objective",
   "metadata": {},
   "source": [
    "## Operadores de comparación"
   ]
  },
  {
   "cell_type": "markdown",
   "id": "saving-siemens",
   "metadata": {},
   "source": [
    "```==```,```!=```,```\\ne```,```<```,```<=```,```≤```,```>```,```>=```,```≥```"
   ]
  },
  {
   "cell_type": "code",
   "execution_count": 91,
   "id": "suffering-tucson",
   "metadata": {},
   "outputs": [
    {
     "data": {
      "text/plain": [
       "true"
      ]
     },
     "execution_count": 91,
     "metadata": {},
     "output_type": "execute_result"
    }
   ],
   "source": [
    "# \\le-tab-\n",
    "3 ≤ 4"
   ]
  },
  {
   "cell_type": "code",
   "execution_count": 93,
   "id": "armed-gilbert",
   "metadata": {},
   "outputs": [
    {
     "data": {
      "text/plain": [
       "false"
      ]
     },
     "execution_count": 93,
     "metadata": {},
     "output_type": "execute_result"
    }
   ],
   "source": [
    "# \\ge-tab\n",
    "\"abc\" ≥ \"acb\""
   ]
  },
  {
   "cell_type": "markdown",
   "id": "convenient-consciousness",
   "metadata": {},
   "source": [
    "Las comparaciones pueden encadenarse,"
   ]
  },
  {
   "cell_type": "code",
   "execution_count": 97,
   "id": "empirical-concept",
   "metadata": {},
   "outputs": [
    {
     "data": {
      "text/plain": [
       "true"
      ]
     },
     "execution_count": 97,
     "metadata": {},
     "output_type": "execute_result"
    }
   ],
   "source": [
    " 1 < 2 <= 2 < 3 == 3 > 2 >= 1 == 1 < 3 != 5"
   ]
  },
  {
   "cell_type": "markdown",
   "id": "internal-entrepreneur",
   "metadata": {},
   "source": [
    "## Condicional con ```if```-```elseif```-```else```\n",
    "\n",
    "La sintaxis es,\n",
    "\n",
    "```julia\n",
    "    if *condición 1*\n",
    "        *opción 1*\n",
    "    elseif *condición 2*\n",
    "        *opción 2*\n",
    "    else\n",
    "        *opción 3*\n",
    "    end\n",
    "```"
   ]
  },
  {
   "cell_type": "markdown",
   "id": "polish-testament",
   "metadata": {},
   "source": [
    "Veamos un ejemplo."
   ]
  },
  {
   "cell_type": "code",
   "execution_count": 5,
   "id": "designed-expression",
   "metadata": {},
   "outputs": [
    {
     "name": "stdout",
     "output_type": "stream",
     "text": [
      "2 es es menor que 3\n"
     ]
    }
   ],
   "source": [
    "x,y = 2, 3\n",
    "if x < y\n",
    "    relacion = \"es menor\"\n",
    "elseif x > y\n",
    "    relacion = \"es mayor\"\n",
    "else\n",
    "    relacion = \"es igual\"\n",
    "end\n",
    "println(\"$(x) es \",relacion,\" que $(y)\")\n"
   ]
  },
  {
   "cell_type": "markdown",
   "id": "communist-billy",
   "metadata": {},
   "source": [
    "El ejemplo anterior muestras otros dos aspectos de Julia interesantes:\n",
    "1. Podemos definir variables en cualquier punto\n",
    "2. Las variables definidas dentro de la estructura condicional no son locales a ella."
   ]
  },
  {
   "cell_type": "markdown",
   "id": "covered-point",
   "metadata": {},
   "source": [
    "También es importante señalar que, a diferencia de C o MATLAB, la condición debe dar un resultado del tipo ```Bool```, es decir, ```true``` o ```false```."
   ]
  },
  {
   "cell_type": "code",
   "execution_count": 8,
   "id": "arbitrary-public",
   "metadata": {},
   "outputs": [
    {
     "ename": "LoadError",
     "evalue": "\u001b[91mTypeError: non-boolean (Int64) used in boolean context\u001b[39m",
     "output_type": "error",
     "traceback": [
      "\u001b[91mTypeError: non-boolean (Int64) used in boolean context\u001b[39m",
      "",
      "Stacktrace:",
      " [1] top-level scope at In[8]:2",
      " [2] include_string(::Function, ::Module, ::String, ::String) at .\\loading.jl:1091"
     ]
    }
   ],
   "source": [
    "# La siguiente condicional es errónea, corrígela !!\n",
    "if 1\n",
    "    println(\"true\")\n",
    "end"
   ]
  },
  {
   "cell_type": "markdown",
   "id": "sticky-white",
   "metadata": {},
   "source": [
    "## Condicional con el operador ternario ```?:```"
   ]
  },
  {
   "cell_type": "markdown",
   "id": "sexual-mexican",
   "metadata": {},
   "source": [
    "El _**operador ternario**_, ```?:```, está una forma de estructura condicional. Sintaxis: ```a ? b : c```. Es similar a la estructura\n",
    "```julia\n",
    "    if a\n",
    "        b\n",
    "    else\n",
    "        c\n",
    "    end\n",
    "```"
   ]
  },
  {
   "cell_type": "markdown",
   "id": "liked-basement",
   "metadata": {},
   "source": [
    "Algunos ejemplos:"
   ]
  },
  {
   "cell_type": "code",
   "execution_count": 20,
   "id": "illegal-lecture",
   "metadata": {},
   "outputs": [
    {
     "name": "stdout",
     "output_type": "stream",
     "text": [
      "1 menor que 2\n"
     ]
    }
   ],
   "source": [
    "x = 1; y = 2;\n",
    "println(x < y ? \"$(x) menor que $(y)\" : \"$(x) mayor o igual que $(y)\") # Es bonita esta llamada, no?"
   ]
  },
  {
   "cell_type": "markdown",
   "id": "quality-concentrate",
   "metadata": {},
   "source": [
    "**Ejercicio**. Escribir el ejemplo 1 con el operador ternario ```?:```"
   ]
  },
  {
   "cell_type": "code",
   "execution_count": 10,
   "id": "southern-preserve",
   "metadata": {},
   "outputs": [
    {
     "name": "stdout",
     "output_type": "stream",
     "text": [
      "2 menor que 3\n"
     ]
    }
   ],
   "source": [
    "x, y = 2, 3\n",
    "println(x < y ? \"$(x) menor que $(y)\" : x > y ?  \"$(x) mayor que $(y)\" :  \"$(x) igual que $(y)\")"
   ]
  },
  {
   "cell_type": "markdown",
   "id": "annual-breakdown",
   "metadata": {},
   "source": [
    "## Evaluación con operadores relacionales ```&&``` y ```||```"
   ]
  },
  {
   "cell_type": "markdown",
   "id": "advisory-spectrum",
   "metadata": {},
   "source": [
    "El uso de los operadores booleanos ```&&``` y ```||``` se conoce como evaluación **short-circuit**. Significa que:"
   ]
  },
  {
   "cell_type": "markdown",
   "id": "recovered-charlotte",
   "metadata": {},
   "source": [
    "-    En la expresión ```a && b```, la subexpresión b solamente se evalúa si  a es evaluada como true.\n",
    "-    En la expresión ```a || b```, la subexpresión b solamente se evalúa si  a es evaluada como false.\n",
    "\n",
    "El razonamiento es que ```a && b``` debe ser false si a es false, sea cual sea el valor de b; de la misma forma el valor de ```a || b```\n",
    "debe ser **true** si a es true, sin importar el valor de b. Ambos operdores ```&&``` y ```||``` se asocian a la derecha, pero con ```&&``` tiene mayor precedecnia que ```||```."
   ]
  },
  {
   "cell_type": "code",
   "execution_count": null,
   "id": "noted-rogers",
   "metadata": {},
   "outputs": [],
   "source": []
  }
 ],
 "metadata": {
  "kernelspec": {
   "display_name": "Julia 1.5.3",
   "language": "julia",
   "name": "julia-1.5"
  },
  "language_info": {
   "file_extension": ".jl",
   "mimetype": "application/julia",
   "name": "julia",
   "version": "1.5.3"
  }
 },
 "nbformat": 4,
 "nbformat_minor": 5
}
