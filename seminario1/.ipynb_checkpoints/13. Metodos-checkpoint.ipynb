{
 "cells": [
  {
   "cell_type": "markdown",
   "metadata": {},
   "source": [
    "[![Julia](../img/julia-logo-color.png)](https://julialang.org/)\n",
    "\n",
    "# Seminario. Introducción al lenguaje Julia"
   ]
  },
  {
   "cell_type": "markdown",
   "metadata": {},
   "source": [
    "## 13. Métodos"
   ]
  },
  {
   "cell_type": "markdown",
   "metadata": {},
   "source": [
    "## Objetivos"
   ]
  },
  {
   "cell_type": "markdown",
   "metadata": {},
   "source": [
    "- Entender el concepto de envío múltiple\n",
    "- Definir métodos para una función"
   ]
  },
  {
   "cell_type": "markdown",
   "metadata": {},
   "source": [
    "## Envío múltiple"
   ]
  },
  {
   "cell_type": "markdown",
   "metadata": {},
   "source": [
    "Una función permite asignar a una tuple un valor o resultado. Mediante **métodos** se puede hacer que el valor devuelto por una función dependa de los argumentos de entrada, lo que se conoce como envío múltiple (_Multiple dispatching_). Un método es una definición de un comportamiento posible de una función. Hasta el momento hemos visto funciones con un único método que se aplican a diferentes tipos de argumentos. Mediante métodos, se puede hacer que una función proporcione un resultado más específico para los argumentos de entrada.\n",
    "\n",
    "La elección de qué método ejecutar cuando se aplica una función se llama envío (_dispatch_). Julia permite que el proceso de envío elija a cuál de los métodos de una función llamar en función del número de argumentos dados y de los tipos de todos los argumentos de la función.\n",
    "\n"
   ]
  },
  {
   "cell_type": "markdown",
   "metadata": {},
   "source": [
    "Veamos un ejemplo rápido con la siguiente función,"
   ]
  },
  {
   "cell_type": "code",
   "execution_count": null,
   "metadata": {},
   "outputs": [],
   "source": [
    "f(x,y) = x * y"
   ]
  },
  {
   "cell_type": "code",
   "execution_count": null,
   "metadata": {},
   "outputs": [],
   "source": [
    "f(2,3)"
   ]
  },
  {
   "cell_type": "code",
   "execution_count": null,
   "metadata": {},
   "outputs": [],
   "source": [
    "f(\"Hola \", \"mundo\\n\")"
   ]
  },
  {
   "cell_type": "markdown",
   "metadata": {},
   "source": [
    "Observamos que el comportamiento del operador ```*``` depende del tipo de los argumentos de entrada, es decir, el método elegido para la función es distinto conforme a sus argumentos. En la primera llamada se realiza la operación aritmética, y en la segunda se concatenan las cadenas de caracteres."
   ]
  },
  {
   "cell_type": "markdown",
   "metadata": {},
   "source": [
    "Veamos un segundo ejemplo, una función que eleva al cuadrado un número"
   ]
  },
  {
   "cell_type": "code",
   "execution_count": null,
   "metadata": {},
   "outputs": [],
   "source": [
    "g(x) = x^2"
   ]
  },
  {
   "cell_type": "code",
   "execution_count": null,
   "metadata": {},
   "outputs": [],
   "source": [
    "g(2)"
   ]
  },
  {
   "cell_type": "markdown",
   "metadata": {},
   "source": [
    "¿Qué ocurre si pasamos como argumento un _Array_?"
   ]
  },
  {
   "cell_type": "code",
   "execution_count": null,
   "metadata": {},
   "outputs": [],
   "source": [
    "g([1,2,3])"
   ]
  },
  {
   "cell_type": "markdown",
   "metadata": {},
   "source": [
    "La función ```g()``` no tiene un método específico para elevar al cuadrado un array por lo que da error. Habría que definirlo. La forma de definir diferentes métodos para una función es especificando los tipos o el número de argumentos. Por ejemplo, podemos indicar como manejar el cuadrado de los elementos de un _Array_ con el siguiente método,"
   ]
  },
  {
   "cell_type": "code",
   "execution_count": null,
   "metadata": {},
   "outputs": [],
   "source": [
    "g(x::Array) = x.^2"
   ]
  },
  {
   "cell_type": "markdown",
   "metadata": {},
   "source": [
    "La nueva definición de  no cambia la anterior, sino que añade un nuevo método a la **función genérica** ```g``` para manejar el cuadrado de los elementos de un vector."
   ]
  },
  {
   "cell_type": "code",
   "execution_count": null,
   "metadata": {},
   "outputs": [],
   "source": [
    "g([1,2,3])"
   ]
  },
  {
   "cell_type": "markdown",
   "metadata": {},
   "source": [
    "## Definición de métodos"
   ]
  },
  {
   "cell_type": "markdown",
   "metadata": {},
   "source": [
    "### Especificando los tipos de los argumentos"
   ]
  },
  {
   "cell_type": "markdown",
   "metadata": {},
   "source": [
    "Julia permite especificar los tipos de los argumentos de las funciones. Hemos visto en el ejemplo anterior como ésto nos ha permitido definir un método específico el cuadrado de los números almacenados en un vector. Veamos algún ejemplo adicional, la siguiente función simplemente toma como argumentos dos cadenas de caracteres y muestra un mensaje por pantalla,"
   ]
  },
  {
   "cell_type": "code",
   "execution_count": null,
   "metadata": {},
   "outputs": [],
   "source": [
    "foo(x::String, y::String) = println(\"Los argumentos x, y son cadenas\")"
   ]
  },
  {
   "cell_type": "code",
   "execution_count": null,
   "metadata": {},
   "outputs": [],
   "source": [
    "foo(\"Hola\", \"Adios\")"
   ]
  },
  {
   "cell_type": "markdown",
   "metadata": {},
   "source": [
    "Si invocamos ```foo``` para otro tipo de datos encontramos un error ya que no hay un método asociado,"
   ]
  },
  {
   "cell_type": "code",
   "execution_count": null,
   "metadata": {},
   "outputs": [],
   "source": [
    "foo(2,3)"
   ]
  },
  {
   "cell_type": "markdown",
   "metadata": {},
   "source": [
    "Podemos solucionar el problema definiendo un nuevo método a la **función genérica** ```foo``` que permita manejar tipos de datos enteros,"
   ]
  },
  {
   "cell_type": "code",
   "execution_count": null,
   "metadata": {},
   "outputs": [],
   "source": [
    "foo(x::Int, y::Int) = println(\"Los argumentos x, y son enteros\")"
   ]
  },
  {
   "cell_type": "code",
   "execution_count": null,
   "metadata": {},
   "outputs": [],
   "source": [
    "foo(2,3)"
   ]
  },
  {
   "cell_type": "markdown",
   "metadata": {},
   "source": [
    "Para conocer los distintos métodos definidos para una función podemos utilizar la llamada a ```methods```. Para la función ```foo```,"
   ]
  },
  {
   "cell_type": "code",
   "execution_count": null,
   "metadata": {},
   "outputs": [],
   "source": [
    "methods(foo)"
   ]
  },
  {
   "cell_type": "markdown",
   "metadata": {},
   "source": [
    "En este otro ejemplo podemos ver como, la función ```+``` permite sumar números enteros, reales, complejos, matrices de distintos tipos,... La lista de métodos para el concepto abstracto de suma es muy larga y permite aplicar la función a diferentes tipos de datos. "
   ]
  },
  {
   "cell_type": "code",
   "execution_count": null,
   "metadata": {},
   "outputs": [],
   "source": [
    "methods(+)"
   ]
  },
  {
   "cell_type": "markdown",
   "metadata": {},
   "source": [
    "Para saber qué método en particular es invocado con una llamada a la función genérica se puede utilizar la macro ```@which```"
   ]
  },
  {
   "cell_type": "code",
   "execution_count": null,
   "metadata": {},
   "outputs": [],
   "source": [
    "@which g([2,3])"
   ]
  },
  {
   "cell_type": "markdown",
   "metadata": {},
   "source": [
    "Otro ejemplo para la multiplicación,"
   ]
  },
  {
   "cell_type": "code",
   "execution_count": null,
   "metadata": {},
   "outputs": [],
   "source": [
    "@which 3 * 4"
   ]
  },
  {
   "cell_type": "code",
   "execution_count": null,
   "metadata": {},
   "outputs": [],
   "source": [
    "@which \"Hola \" * \"Mundo\""
   ]
  },
  {
   "cell_type": "markdown",
   "metadata": {},
   "source": [
    "Volviendo a la función ```foo```, podemos añadir nuevos métodos para otros tipos de datos numéricos; pero podemos hacerlo definiendo un método para el tipo abstracto ```Number```,"
   ]
  },
  {
   "cell_type": "code",
   "execution_count": null,
   "metadata": {},
   "outputs": [],
   "source": [
    "foo(x::Number, y::Number) = println(\"Los argumentos x, y son números\")"
   ]
  },
  {
   "cell_type": "code",
   "execution_count": null,
   "metadata": {},
   "outputs": [],
   "source": [
    "foo(4.4, 5.0)"
   ]
  },
  {
   "cell_type": "markdown",
   "metadata": {},
   "source": [
    "Podemos añadir un método por _defecto_ que acepte tipos de cualquier tipo,"
   ]
  },
  {
   "cell_type": "code",
   "execution_count": null,
   "metadata": {},
   "outputs": [],
   "source": [
    "foo(x, y) = println(\"Acepto tipos de cualquier tipo\")"
   ]
  },
  {
   "cell_type": "code",
   "execution_count": null,
   "metadata": {},
   "outputs": [],
   "source": [
    "foo(f,g)  # Funciona incluso con funciones como argumento !!"
   ]
  },
  {
   "cell_type": "markdown",
   "metadata": {},
   "source": [
    "De los diferentes métodos asociados a una función, siempre se llamará el método más específico para los argumentos de entrada."
   ]
  },
  {
   "cell_type": "markdown",
   "metadata": {},
   "source": [
    "### Especificando diferente número de argumentos"
   ]
  },
  {
   "cell_type": "markdown",
   "metadata": {},
   "source": [
    "**Ejercicio**. Añadir un método a ```foo``` que acepte un argumento del tipo ```Bool``` y muestre por pantalla \"foo con un booleano\""
   ]
  },
  {
   "cell_type": "code",
   "execution_count": null,
   "metadata": {},
   "outputs": [],
   "source": []
  }
 ],
 "metadata": {
  "kernelspec": {
   "display_name": "Julia 1.5.3",
   "language": "julia",
   "name": "julia-1.5"
  },
  "language_info": {
   "file_extension": ".jl",
   "mimetype": "application/julia",
   "name": "julia",
   "version": "1.5.3"
  }
 },
 "nbformat": 4,
 "nbformat_minor": 5
}
