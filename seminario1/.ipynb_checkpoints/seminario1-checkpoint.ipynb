{
 "cells": [
  {
   "cell_type": "markdown",
   "id": "cordless-logic",
   "metadata": {},
   "source": [
    "![Julia](../img/julia-logo-color.PNG)\n",
    "# Seminario 1. Introducción al lenguaje Julia"
   ]
  },
  {
   "cell_type": "markdown",
   "id": "literary-interstate",
   "metadata": {},
   "source": [
    "## Introducción.\n",
    "Julia es un lenguaje de programación de código abierto, multiplataforma, de alto nivel y alto rendimiento pensado para cálculo científico. A destacar:\n",
    "- Julia tiene un compilador JIT (Just In Time) basado en LLVM que le permite igualar el rendimiento de lenguajes como C y FORTRAN.\n",
    "- Debido a que el código se compila sobre la marcha, puede ejecutar (bits de) código en un shell o REPL.\n",
    "- Julia se escribe dinámicamente, proporciona envío múltiple (multiple dispatching) y está diseñada para paralelismo y cálculo distribuido.\n",
    "- Julia tiene un administrador de paquetes integrado.\n",
    "- Julia tiene muchas funciones matemáticas integradas, incluidas funciones especiales (por ejemplo, Gamma), y admite números complejos desde el primer momento.\n",
    "- Julia te permite generar código automáticamente gracias a macros inspiradas en Lisp."
   ]
  },
  {
   "cell_type": "markdown",
   "id": "metropolitan-comparative",
   "metadata": {},
   "source": [
    "## Objetivos del seminario."
   ]
  },
  {
   "cell_type": "markdown",
   "id": "arranged-lighter",
   "metadata": {},
   "source": [
    "- Instalación de entorno de trabajo\n",
    "- Sintáxis básica del lenguaje"
   ]
  },
  {
   "cell_type": "markdown",
   "id": "white-chair",
   "metadata": {},
   "source": [
    "## Instalación"
   ]
  },
  {
   "cell_type": "markdown",
   "id": "functioning-swaziland",
   "metadata": {},
   "source": [
    "La instalación del lenguaje Julia y diferentes entornos de programación se puede consultar en el fichero [README.md](https://github.com/AMATA-UPV/Julia-seminarios.git) del repositorio de los seminarios en GitHub. A modo de resumen, podemos ejectuar Julia en nuestro propio ordenador utilizando la consola REPL y un sencillo editor, un entorno integrado de desarrollo, o bien ejecutarlo en la nube sin necesidad de instalación local. Para estos seminarios vamos a instalar Julia localmente y desarrollaremos código mediante IJulia."
   ]
  },
  {
   "cell_type": "markdown",
   "id": "polyphonic-legislation",
   "metadata": {},
   "source": [
    "## Sintáxis básica del lenguaje"
   ]
  },
  {
   "cell_type": "markdown",
   "id": "suspended-messenger",
   "metadata": {},
   "source": [
    "### Variables"
   ]
  },
  {
   "cell_type": "code",
   "execution_count": 50,
   "id": "romantic-asthma",
   "metadata": {},
   "outputs": [
    {
     "data": {
      "text/plain": [
       "2"
      ]
     },
     "execution_count": 50,
     "metadata": {},
     "output_type": "execute_result"
    }
   ],
   "source": [
    "# Asignar el valor 10 a la variable x\n",
    "x = 2"
   ]
  },
  {
   "cell_type": "code",
   "execution_count": 51,
   "id": "dental-letters",
   "metadata": {},
   "outputs": [
    {
     "data": {
      "text/plain": [
       "7"
      ]
     },
     "execution_count": 51,
     "metadata": {},
     "output_type": "execute_result"
    }
   ],
   "source": [
    "# Operaciones aritméticas\n",
    "y = x + 5"
   ]
  },
  {
   "cell_type": "code",
   "execution_count": 52,
   "id": "shaped-model",
   "metadata": {},
   "outputs": [
    {
     "data": {
      "text/plain": [
       "4"
      ]
     },
     "execution_count": 52,
     "metadata": {},
     "output_type": "execute_result"
    }
   ],
   "source": [
    "2x"
   ]
  },
  {
   "cell_type": "code",
   "execution_count": 53,
   "id": "black-wheat",
   "metadata": {},
   "outputs": [
    {
     "data": {
      "text/plain": [
       "true"
      ]
     },
     "execution_count": 53,
     "metadata": {},
     "output_type": "execute_result"
    }
   ],
   "source": [
    "2*x == 2x"
   ]
  },
  {
   "cell_type": "code",
   "execution_count": 54,
   "id": "cutting-prison",
   "metadata": {},
   "outputs": [
    {
     "data": {
      "text/plain": [
       "\"Hola Mundo!\""
      ]
     },
     "execution_count": 54,
     "metadata": {},
     "output_type": "execute_result"
    }
   ],
   "source": [
    "# Reasignar valores, incluso de otros tipos, como cadenas de texto\n",
    "x = \"Hola Mundo!\""
   ]
  },
  {
   "cell_type": "code",
   "execution_count": null,
   "id": "subsequent-olive",
   "metadata": {},
   "outputs": [],
   "source": []
  }
 ],
 "metadata": {
  "kernelspec": {
   "display_name": "Julia 1.5.3",
   "language": "julia",
   "name": "julia-1.5"
  },
  "language_info": {
   "file_extension": ".jl",
   "mimetype": "application/julia",
   "name": "julia",
   "version": "1.5.3"
  }
 },
 "nbformat": 4,
 "nbformat_minor": 5
}
