{
 "cells": [
  {
   "cell_type": "markdown",
   "id": "indoor-planning",
   "metadata": {},
   "source": [
    "[![Julia](../img/julia-logo-color.png)](https://julialang.org/)\n",
    "\n",
    "# Seminario. Introducción al lenguaje Julia"
   ]
  },
  {
   "cell_type": "markdown",
   "id": "electoral-relief",
   "metadata": {},
   "source": [
    "## 5. Bucles"
   ]
  },
  {
   "cell_type": "markdown",
   "id": "mineral-annual",
   "metadata": {},
   "source": [
    "## Objetivos"
   ]
  },
  {
   "cell_type": "markdown",
   "id": "loved-nerve",
   "metadata": {},
   "source": [
    "- Bucle ```While```\n",
    "- Bucle ```For```"
   ]
  },
  {
   "cell_type": "markdown",
   "id": "figured-produce",
   "metadata": {},
   "source": [
    "## Bucle while"
   ]
  },
  {
   "cell_type": "markdown",
   "id": "informative-adams",
   "metadata": {},
   "source": [
    "La sintaxis del bucle iterativo ```while``` es\n",
    "```julia\n",
    "    while *condition*\n",
    "        *cuerpo bucle*\n",
    "    end\n",
    "```"
   ]
  },
  {
   "cell_type": "markdown",
   "id": "indian-antigua",
   "metadata": {},
   "source": [
    "Veamos algunos ejemplos:"
   ]
  },
  {
   "cell_type": "code",
   "execution_count": null,
   "id": "instructional-salon",
   "metadata": {},
   "outputs": [],
   "source": [
    "n = 0\n",
    "while n < 10\n",
    "    n += 1     # n = n + 1\n",
    "    println(n)\n",
    "end"
   ]
  },
  {
   "cell_type": "code",
   "execution_count": null,
   "id": "settled-norway",
   "metadata": {},
   "outputs": [],
   "source": [
    "amigos = [\"Miguel\", \"Lola\", \"Pepe\", \"Rosa\"]\n",
    "i = 1\n",
    "while i <= length(amigos)\n",
    "    amigo = amigos[i]\n",
    "    println(\"Hola $amigo, me alegro de verte\")\n",
    "    i += 1\n",
    "end"
   ]
  },
  {
   "cell_type": "markdown",
   "id": "neither-tobago",
   "metadata": {},
   "source": [
    "## Bucle for"
   ]
  },
  {
   "cell_type": "markdown",
   "id": "bacterial-hypothesis",
   "metadata": {},
   "source": [
    "La sintaxis del bucle iterativo ```for``` es\n",
    "```julia\n",
    "    for *var* in *iterable*\n",
    "        *cuerpo bucle*\n",
    "    end\n",
    "```"
   ]
  },
  {
   "cell_type": "code",
   "execution_count": null,
   "id": "intimate-preliminary",
   "metadata": {},
   "outputs": [],
   "source": [
    "amigos = [\"Miguel\", \"Lola\", \"Pepe\", \"Rosa\"]\n",
    "for amigo in amigos\n",
    "    println(\"Hola $amigo, me alegro de verte\")\n",
    "end"
   ]
  },
  {
   "cell_type": "code",
   "execution_count": null,
   "id": "higher-being",
   "metadata": {},
   "outputs": [],
   "source": [
    "#Veamos el primer ejemplo anterior\n",
    "for n in 1:10\n",
    "    println(n)\n",
    "end"
   ]
  },
  {
   "cell_type": "markdown",
   "id": "spiritual-swaziland",
   "metadata": {},
   "source": [
    "Vamos a rellenar algunas matrices con el bucle ```for```,"
   ]
  },
  {
   "cell_type": "code",
   "execution_count": null,
   "id": "terminal-consortium",
   "metadata": {},
   "outputs": [],
   "source": [
    "m, n = 5, 5\n",
    "A = fill(0,m,n)"
   ]
  },
  {
   "cell_type": "code",
   "execution_count": null,
   "id": "lonely-newcastle",
   "metadata": {},
   "outputs": [],
   "source": [
    "for i in 1:m\n",
    "    for j in 1:n\n",
    "        A[i,j] = i + j\n",
    "    end\n",
    "end\n",
    "A"
   ]
  },
  {
   "cell_type": "code",
   "execution_count": null,
   "id": "parental-salvation",
   "metadata": {},
   "outputs": [],
   "source": [
    "B = fill(0,m,n)\n",
    "for i in 1:m, j in 1:n\n",
    "        B[i,j] = i + j\n",
    "end\n",
    "B"
   ]
  },
  {
   "cell_type": "code",
   "execution_count": null,
   "id": "fifth-overall",
   "metadata": {},
   "outputs": [],
   "source": [
    "# Todavía hay una tercera opción\n",
    "C = [i + j for i in 1:m, j in 1:n]"
   ]
  },
  {
   "cell_type": "markdown",
   "id": "cellular-instrumentation",
   "metadata": {},
   "source": [
    "### Ejercicios"
   ]
  },
  {
   "cell_type": "markdown",
   "id": "yellow-delta",
   "metadata": {},
   "source": [
    "**1.** Crear un vector que contenga los cuadrados de los números del 1 al 100"
   ]
  },
  {
   "cell_type": "code",
   "execution_count": null,
   "id": "rough-extent",
   "metadata": {},
   "outputs": [],
   "source": []
  },
  {
   "cell_type": "markdown",
   "id": "quick-eagle",
   "metadata": {},
   "source": [
    "**2.** Escribir un bucle que cree un _diccionario_, ```cuadrados``` que almacene los enteros del 1 al 100 y sus cuadrados, de manera que\n",
    "```julia\n",
    "    cuadrados[10] = 100\n",
    "```"
   ]
  },
  {
   "cell_type": "code",
   "execution_count": null,
   "id": "utility-option",
   "metadata": {},
   "outputs": [],
   "source": []
  }
 ],
 "metadata": {
  "kernelspec": {
   "display_name": "Julia 1.5.3",
   "language": "julia",
   "name": "julia-1.5"
  },
  "language_info": {
   "file_extension": ".jl",
   "mimetype": "application/julia",
   "name": "julia",
   "version": "1.5.3"
  }
 },
 "nbformat": 4,
 "nbformat_minor": 5
}
