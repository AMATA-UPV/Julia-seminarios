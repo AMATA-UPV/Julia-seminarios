{
 "cells": [
  {
   "cell_type": "code",
   "execution_count": 7,
   "metadata": {},
   "outputs": [],
   "source": [
    "code = \"\"\"\n",
    "s = 0\n",
    "for i = 1:10\n",
    "    s = s + i\n",
    "end\n",
    "\"\"\";"
   ]
  },
  {
   "cell_type": "code",
   "execution_count": 8,
   "metadata": {},
   "outputs": [
    {
     "data": {
      "text/plain": [
       "55"
      ]
     },
     "execution_count": 8,
     "metadata": {},
     "output_type": "execute_result"
    }
   ],
   "source": [
    "s"
   ]
  },
  {
   "cell_type": "code",
   "execution_count": 9,
   "metadata": {},
   "outputs": [
    {
     "name": "stderr",
     "output_type": "stream",
     "text": [
      "┌ Warning: Assignment to `s` in soft scope is ambiguous because a global variable by the same name exists: `s` will be treated as a new local. Disambiguate by using `local s` to suppress this warning or `global s` to assign to the existing global variable.\n",
      "└ @ nothing string:3\n"
     ]
    },
    {
     "ename": "LoadError",
     "evalue": "LoadError: \u001b[91mUndefVarError: s not defined\u001b[39m\nin expression starting at string:2",
     "output_type": "error",
     "traceback": [
      "LoadError: \u001b[91mUndefVarError: s not defined\u001b[39m\nin expression starting at string:2",
      "",
      "Stacktrace:",
      " [1] top-level scope at ./string:3",
      " [2] include_string(::Function, ::Module, ::String, ::String) at ./loading.jl:1088",
      " [3] include_string at ./loading.jl:1096 [inlined] (repeats 2 times)",
      " [4] top-level scope at In[9]:1",
      " [5] include_string(::Function, ::Module, ::String, ::String) at ./loading.jl:1091"
     ]
    }
   ],
   "source": [
    "include_string(Main, code)"
   ]
  },
  {
   "cell_type": "code",
   "execution_count": null,
   "metadata": {},
   "outputs": [],
   "source": []
  }
 ],
 "metadata": {
  "kernelspec": {
   "display_name": "Julia 1.5.3",
   "language": "julia",
   "name": "julia-1.5"
  },
  "language_info": {
   "file_extension": ".jl",
   "mimetype": "application/julia",
   "name": "julia",
   "version": "1.5.3"
  }
 },
 "nbformat": 4,
 "nbformat_minor": 4
}
