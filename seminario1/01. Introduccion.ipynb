{
 "cells": [
  {
   "cell_type": "markdown",
   "metadata": {},
   "source": [
    "[![Julia](../img/julia-logo-color.png)](https://julialang.org/)\n",
    "\n",
    "# Seminario. Introducción al lenguaje Julia"
   ]
  },
  {
   "cell_type": "markdown",
   "metadata": {},
   "source": [
    "## 1. Introducción\n",
    "[Julia](https://julialang.org) es un lenguaje de programación de código abierto, multiplataforma, de alto nivel y alto rendimiento pensado para [cálculo científico](https://discourse.julialang.org/c/domain/10). A destacar:\n",
    "- Julia tiene un compilador JIT (Just In Time) basado en LLVM que le permite igualar el [rendimiento](https://julialang.org/benchmarks/) de lenguajes como C y FORTRAN.\n",
    "- Debido a que el código se compila sobre la marcha, puede ejecutar (bits de) código [interactivamente en REPL](https://docs.julialang.org/en/v1/stdlib/REPL/), como otros lenguajes interprestados (python, Matlab,...).\n",
    "- Julia se escribe dinámicamente, por ejemplo es posible [cambiar el tipo de una variable](https://docs.julialang.org/en/v1/manual/types/) durante la ejecución.\n",
    "- Julia permite envío múltiple ([multiple dispatching](https://docs.julialang.org/en/v1/manual/methods/)) para funciones lo que permiten que éstas tengan diferentes comportamientos en función de sus argumentos\n",
    "- Julia está diseñado para [paralelismo](https://github.com/chriselrod/LoopVectorization.jl) y cálculo distribuido.\n",
    "- Julia es multiparadigma, combina características de lenguajes imperativos, funcionales y orientados a objetos.\n",
    "- Julia tiene un [administrador de paquetes](https://docs.julialang.org/en/v1/stdlib/Pkg/index.html) integrado.\n",
    "- Julia tiene muchas [funciones matemáticas](https://docs.julialang.org/en/v1/base/math/) integradas, incluidas funciones especiales, y admite números complejos desde el primer momento.\n",
    "- Julia permite llamar a funciones escritas en otros lenguajes, [C, Fortran,,...](https://docs.julialang.org/en/v1/manual/calling-c-and-fortran-code/).\n",
    "- Julia es reproducible mediante la definición de [entorno de ejecución](https://julialang.github.io/Pkg.jl/v1/environments/). Esto permite que los resultados obtenidos con nuestros algoritmos sean fácilmente reproducidos por la comunidad científica ([The Turing Way](https://the-turing-way.netlify.app/welcome.html))."
   ]
  },
  {
   "cell_type": "markdown",
   "metadata": {},
   "source": [
    "## Objetivos del seminario"
   ]
  },
  {
   "cell_type": "markdown",
   "metadata": {},
   "source": [
    "- Instalación de entorno de trabajo\n",
    "- Entorno Jupyter\n",
    "- Variables\n",
    "- Tipos de datos numéricos\n",
    "- Cadenas y caracteres\n",
    "- Estructuras de datos\n",
    "- Funciones\n",
    "- Control de flujo\n",
    "- Ámbito de variables"
   ]
  },
  {
   "cell_type": "markdown",
   "metadata": {},
   "source": [
    "## Instalación"
   ]
  },
  {
   "cell_type": "markdown",
   "metadata": {},
   "source": [
    "La instalación del lenguaje Julia y diferentes entornos de programación se puede consultar en el fichero [README.md](https://github.com/AMATA-UPV/Julia-seminarios.git) del repositorio de los seminarios en [GitHub](https://github.com/AMATA-UPV). A modo de resumen, podemos ejectuar Julia en nuestro propio ordenador utilizando la consola REPL y un sencillo editor, un entorno integrado de desarrollo, o bien ejecutarlo en la nube sin necesidad de instalación local. Para estos seminarios vamos a instalar Julia localmente y desarrollaremos código mediante IJulia."
   ]
  },
  {
   "cell_type": "markdown",
   "metadata": {},
   "source": [
    "## Entorno IJulia\n",
    "IJulia se ejecuta como un plugin de Jupyter notebook."
   ]
  },
  {
   "cell_type": "markdown",
   "metadata": {},
   "source": [
    "### Ejecutar una celda"
   ]
  },
  {
   "cell_type": "markdown",
   "metadata": {},
   "source": [
    "Jupyter Notebook se compone de celdas de texto con formato ```markdown``` o ```LateX```, y celdas con instrucciones, similar a los LiveScripts de Matlab. Para ejecutar una celda se puede hacer, tras seleccionar la celda, mediante la barra de herramientas, o mediante teclado ```Shift``` + ```Enter```."
   ]
  },
  {
   "cell_type": "code",
   "execution_count": null,
   "metadata": {},
   "outputs": [],
   "source": [
    "2 + 2"
   ]
  },
  {
   "cell_type": "markdown",
   "metadata": {},
   "source": [
    "En una celda puede haber varias instrucciones, aunque solamente se muestra el resultado de la última."
   ]
  },
  {
   "cell_type": "code",
   "execution_count": null,
   "metadata": {},
   "outputs": [],
   "source": [
    "2 * 3\n",
    "4 / 2"
   ]
  },
  {
   "cell_type": "markdown",
   "metadata": {},
   "source": [
    "Se puede suprimir la visualización del resultado con ```;```."
   ]
  },
  {
   "cell_type": "code",
   "execution_count": null,
   "metadata": {},
   "outputs": [],
   "source": [
    "4 % 3;"
   ]
  },
  {
   "cell_type": "markdown",
   "metadata": {},
   "source": [
    "### Mostrar documentación"
   ]
  },
  {
   "cell_type": "code",
   "execution_count": null,
   "metadata": {},
   "outputs": [],
   "source": [
    "?println"
   ]
  },
  {
   "cell_type": "markdown",
   "metadata": {},
   "source": [
    "### Comandos de terminal"
   ]
  },
  {
   "cell_type": "markdown",
   "metadata": {},
   "source": [
    "Se pueden ejecutar comandos del terminal **Linux** la secuencia ```;<comando>```."
   ]
  },
  {
   "cell_type": "code",
   "execution_count": null,
   "metadata": {},
   "outputs": [],
   "source": [
    ";ls"
   ]
  },
  {
   "cell_type": "code",
   "execution_count": null,
   "metadata": {},
   "outputs": [],
   "source": [
    ";pwd"
   ]
  }
 ],
 "metadata": {
  "kernelspec": {
   "display_name": "Julia 1.5.3",
   "language": "julia",
   "name": "julia-1.5"
  },
  "language_info": {
   "file_extension": ".jl",
   "mimetype": "application/julia",
   "name": "julia",
   "version": "1.5.3"
  }
 },
 "nbformat": 4,
 "nbformat_minor": 5
}
