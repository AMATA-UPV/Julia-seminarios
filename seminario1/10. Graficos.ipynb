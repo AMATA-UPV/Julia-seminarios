{
 "cells": [
  {
   "cell_type": "markdown",
   "metadata": {},
   "source": [
    "[![Julia](../img/julia-logo-color.png)](https://julialang.org/)\n",
    "\n",
    "# Seminario. Introducción al lenguaje Julia"
   ]
  },
  {
   "cell_type": "markdown",
   "metadata": {},
   "source": [
    "## 10. Gráficos"
   ]
  },
  {
   "cell_type": "markdown",
   "metadata": {},
   "source": [
    "## Objetivos"
   ]
  },
  {
   "cell_type": "markdown",
   "metadata": {},
   "source": [
    "- Instalación del paquete Plots\n",
    "- Uso básico función ```plot```"
   ]
  },
  {
   "cell_type": "markdown",
   "metadata": {},
   "source": [
    "## Instalación de ```plots.jl```"
   ]
  },
  {
   "cell_type": "markdown",
   "metadata": {},
   "source": [
    "[Plots](https://docs.juliaplots.org/latest/) es un paquete que ofrece una interfaz común para gráficos con la posibilidad de utilizar diferentes \"backends\". Es decir, permite utilizar librerías de dibujo como GR, PyPlot..., según convenga, sin tener que cambiar nuestro código de dibujo. "
   ]
  },
  {
   "cell_type": "markdown",
   "metadata": {},
   "source": [
    "La primera vez que se va a usar ```Plots``` en una instalación de Julia, se tiene añadir explícitamente con el gestor de paquetes,"
   ]
  },
  {
   "cell_type": "code",
   "execution_count": null,
   "metadata": {},
   "outputs": [],
   "source": [
    "#using Pkg\n",
    "#Pkg.add(\"Plots\")"
   ]
  },
  {
   "cell_type": "markdown",
   "metadata": {},
   "source": [
    "Una vez añadido el paquete ```Plots.jl``` a la instalación, hay que cargarlo cada vez que se vaya a utilizar mediante la expersión"
   ]
  },
  {
   "cell_type": "code",
   "execution_count": null,
   "metadata": {},
   "outputs": [],
   "source": [
    "using Plots"
   ]
  },
  {
   "cell_type": "markdown",
   "metadata": {},
   "source": [
    "## Función ```Plot```"
   ]
  },
  {
   "cell_type": "markdown",
   "metadata": {},
   "source": [
    "Antes de usar la función ```plot```, tenemos que decir el **backend** o API de gráficos que utilizaremos para dibujar. En la pagina web de Plots se puede leer \"_GR for speed, Plotly(JS) for interactivity, PyPlot otherwise_\"."
   ]
  },
  {
   "cell_type": "markdown",
   "metadata": {},
   "source": [
    "Para utilizar GR, invocamos la función ```gr()```"
   ]
  },
  {
   "cell_type": "code",
   "execution_count": null,
   "metadata": {},
   "outputs": [],
   "source": [
    "gr()"
   ]
  },
  {
   "cell_type": "markdown",
   "metadata": {},
   "source": [
    "Veamos un ejemplo sencillo extraído del [tutorial](https://docs.juliaplots.org/latest/tutorial/) de la web de Plots,"
   ]
  },
  {
   "cell_type": "code",
   "execution_count": null,
   "metadata": {},
   "outputs": [],
   "source": [
    "using Plots\n",
    "x = 1:10; y = rand(10); # Datos del gráfico\n",
    "plot(x, y)"
   ]
  },
  {
   "cell_type": "markdown",
   "metadata": {},
   "source": [
    "Podemos dibujar varias series de varias formas, añadiendo columnas a la matriz ```y```"
   ]
  },
  {
   "cell_type": "code",
   "execution_count": null,
   "metadata": {},
   "outputs": [],
   "source": [
    "x = 1:10; y = rand(10,2); # Cada columna es una curva\n",
    "p = plot(x, y)  #p es un identificador del gráfico creado"
   ]
  },
  {
   "cell_type": "markdown",
   "metadata": {},
   "source": [
    "... o también añadiendo la curva al gráfico creado anteriormente"
   ]
  },
  {
   "cell_type": "code",
   "execution_count": null,
   "metadata": {},
   "outputs": [],
   "source": [
    "z1 = rand(10)\n",
    "plot!(p, x, z1)  # Utilizamos la función plot! y el identificador del gráfico \"p\" que vamos a modificar"
   ]
  },
  {
   "cell_type": "markdown",
   "metadata": {},
   "source": [
    "En el caso de que no utilicemos el identificador del gráfico _p_, ```Plots.jl``` utiliza el gráfico actual referenciado en ```Plots.CURRENT_PLOT```,"
   ]
  },
  {
   "cell_type": "code",
   "execution_count": null,
   "metadata": {},
   "outputs": [],
   "source": [
    "z2 = rand(10)\n",
    "plot!(x, z2)"
   ]
  },
  {
   "cell_type": "markdown",
   "metadata": {},
   "source": [
    "### Atributos de ```Plot```"
   ]
  },
  {
   "cell_type": "markdown",
   "metadata": {},
   "source": [
    "Se pueden especificar las características o [atributos](https://docs.juliaplots.org/latest/attributes/#attributes) de nuestro gráfico tales como color, tipo de línea, leyendas, ... Por ejemplo, vamos a especificar el título y las leyendas de las dos curvas del ejemplo anterior especificando los atributos **title** y **label**,"
   ]
  },
  {
   "cell_type": "code",
   "execution_count": null,
   "metadata": {},
   "outputs": [],
   "source": [
    "x = 1:10; y = rand(10, 2) \n",
    "plot(x, y, title = \"Dos líneas\", label = [\"Linea 1\" \"Linea 2\"], lw = 3)"
   ]
  },
  {
   "cell_type": "markdown",
   "metadata": {},
   "source": [
    "De igual forma, podemos dar un título a los ejes especificando los atributos **xlabel** e **ylabel**,"
   ]
  },
  {
   "cell_type": "code",
   "execution_count": null,
   "metadata": {},
   "outputs": [],
   "source": [
    "plot!(xlabel = \"Eje X\", ylabel = \"Y\")"
   ]
  },
  {
   "cell_type": "markdown",
   "metadata": {},
   "source": [
    "Podríamos haber modificado las leyendas, por ejemplo la del eje de ordenadas, llamando a la función ```ylabel!()```. En ```Plot``` cada atributo tiene la correspondiente función que permite modificarlo,"
   ]
  },
  {
   "cell_type": "code",
   "execution_count": null,
   "metadata": {},
   "outputs": [],
   "source": [
    "ylabel!(\"Eje Y\")  # Notad el uso de ! que indica función mutable"
   ]
  },
  {
   "cell_type": "markdown",
   "metadata": {},
   "source": [
    "También podemos cambiar el tipo de línea con el atributo **seriestype**, por ejemplo"
   ]
  },
  {
   "cell_type": "code",
   "execution_count": null,
   "metadata": {},
   "outputs": [],
   "source": [
    "plot(x, y, seriestype = :scatter)"
   ]
  },
  {
   "cell_type": "markdown",
   "metadata": {},
   "source": [
    "También podríamos hacerlo llamando a la función ```scatter```"
   ]
  },
  {
   "cell_type": "code",
   "execution_count": null,
   "metadata": {},
   "outputs": [],
   "source": [
    "scatter(x, y, title = \"Scatter plot\")"
   ]
  },
  {
   "cell_type": "markdown",
   "metadata": {},
   "source": [
    "Para acabar esta breve introducción (el apartado de gráficos nos podría llevar varios días), veamos como dibujar varios gráficos de diferentes tipos,"
   ]
  },
  {
   "cell_type": "code",
   "execution_count": null,
   "metadata": {},
   "outputs": [],
   "source": [
    "x = 1:10\n",
    "y = rand(10, 4)\n",
    "p1 = plot(x, y) # Gráfico de línea\n",
    "p2 = scatter(x, y) # Gráfico a puntos\n",
    "p3 = plot(x, y, xlabel = \"Con etiqueta abcisas\", lw = 3, title = \"Con título\")\n",
    "p4 = histogram(x, y) # Histogramas\n",
    "plot(p1, p2, p3, p4, layout = (2, 2), legend = false)"
   ]
  },
  {
   "cell_type": "code",
   "execution_count": null,
   "metadata": {},
   "outputs": [],
   "source": []
  }
 ],
 "metadata": {
  "kernelspec": {
   "display_name": "Julia 1.5.3",
   "language": "julia",
   "name": "julia-1.5"
  },
  "language_info": {
   "file_extension": ".jl",
   "mimetype": "application/julia",
   "name": "julia",
   "version": "1.5.3"
  }
 },
 "nbformat": 4,
 "nbformat_minor": 5
}
