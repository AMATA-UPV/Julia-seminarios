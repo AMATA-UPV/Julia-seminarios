{
 "cells": [
  {
   "cell_type": "markdown",
   "id": "loose-tokyo",
   "metadata": {},
   "source": [
    "[![Julia](../img/julia-logo-color.png)](https://julialang.org/)\n",
    "\n",
    "# Seminario. Introducción al lenguaje Julia"
   ]
  },
  {
   "cell_type": "markdown",
   "id": "american-spiritual",
   "metadata": {},
   "source": [
    "## 4. Estructuras de datos"
   ]
  },
  {
   "cell_type": "markdown",
   "id": "employed-ecuador",
   "metadata": {},
   "source": [
    "## Objetivos\n",
    "\n",
    "Las estructuras de datos nos permiten manejar colecciones de datos de una manera cómoda. Las estructuras que veremos son:\n",
    "- Diccionarios\n",
    "- Tuplas\n",
    "- Arrays\n",
    "Las tuplas y arrays almacenan elementos ordenados, mientras que los diccionarios no. La diferencia entre tuplas y arrays es que en las primeras no se pueden modificar sus elementos (son inmutables), mientras que en los arrays, al igual que los diccionarios, sí (mutables)."
   ]
  },
  {
   "cell_type": "markdown",
   "id": "binding-speed",
   "metadata": {},
   "source": [
    "### Diccionarios\n",
    "Cuando tenemos dos conjuntos de datos relacionados, puede ser conveniente almacenarlos como diccionarios. Los elementos de un diccionario son pares \"clave\" => \"valor\"."
   ]
  },
  {
   "cell_type": "code",
   "execution_count": null,
   "id": "assured-trustee",
   "metadata": {},
   "outputs": [],
   "source": [
    "AgendaTelefono = Dict(\"Jose\" => \"76612\", \"Pepe\" => \"76611\", \"Ana\" => \"76614\")"
   ]
  },
  {
   "cell_type": "code",
   "execution_count": null,
   "id": "loved-instruction",
   "metadata": {},
   "outputs": [],
   "source": [
    "# Se pueden añadir nuevas entradas\n",
    "\n",
    "AgendaTelefono[\"Juana\"] = \"76662\""
   ]
  },
  {
   "cell_type": "code",
   "execution_count": null,
   "id": "sticky-pixel",
   "metadata": {},
   "outputs": [],
   "source": [
    "AgendaTelefono"
   ]
  },
  {
   "cell_type": "code",
   "execution_count": null,
   "id": "entertaining-thought",
   "metadata": {},
   "outputs": [],
   "source": [
    "AgendaTelefono[\"Pepe\"]"
   ]
  },
  {
   "cell_type": "code",
   "execution_count": null,
   "id": "grave-cache",
   "metadata": {},
   "outputs": [],
   "source": [
    "# Como los diccionarios no están ordenados, la siguiente instrucción no es válida\n",
    "AgendaTelefono[1]"
   ]
  },
  {
   "cell_type": "markdown",
   "id": "strange-honolulu",
   "metadata": {},
   "source": [
    "### Tuplas"
   ]
  },
  {
   "cell_type": "markdown",
   "id": "yellow-medicaid",
   "metadata": {},
   "source": [
    "Una tupla es una estructura de datos que guarda una relación estrecha con los argumentos de una función y los valores de retorno,"
   ]
  },
  {
   "cell_type": "code",
   "execution_count": null,
   "id": "greater-diesel",
   "metadata": {},
   "outputs": [],
   "source": [
    "# Una 2-tupla\n",
    "x = (1,2)"
   ]
  },
  {
   "cell_type": "code",
   "execution_count": null,
   "id": "utility-natural",
   "metadata": {},
   "outputs": [],
   "source": [
    "# Podemos referirnos a los elementos de una tupla como si fueran un array\n",
    "x[1]"
   ]
  },
  {
   "cell_type": "code",
   "execution_count": null,
   "id": "paperback-bearing",
   "metadata": {},
   "outputs": [],
   "source": [
    "# Las tuplas son objetos inmutables\n",
    "x[1] = -3"
   ]
  },
  {
   "cell_type": "code",
   "execution_count": null,
   "id": "junior-camping",
   "metadata": {},
   "outputs": [],
   "source": [
    "# Podemos nombrar los componentes de una tupla...\n",
    "p = (x=1, y=2, z = 3)"
   ]
  },
  {
   "cell_type": "code",
   "execution_count": null,
   "id": "confident-nitrogen",
   "metadata": {},
   "outputs": [],
   "source": [
    "# ... y referirnos a ellos mediante el \".\"\n",
    "# Ojo, los paréntesis son necesarios en el operador interpolación para el resultado correcto\n",
    "println(\"p.x: $(p.x), p.y:$(p.y), p.z:$(p.z)\") "
   ]
  },
  {
   "cell_type": "markdown",
   "id": "authorized-necessity",
   "metadata": {},
   "source": [
    "### Arrays\n",
    "Los Arrays son mutables y ordenados. Se crea un array encerrando sus elementos en ```[]```."
   ]
  },
  {
   "cell_type": "code",
   "execution_count": null,
   "id": "selected-reasoning",
   "metadata": {},
   "outputs": [],
   "source": [
    "fibonacci = [1,1,2,3,5,8,13]"
   ]
  },
  {
   "cell_type": "code",
   "execution_count": null,
   "id": "transsexual-winner",
   "metadata": {},
   "outputs": [],
   "source": [
    "asistentes = [\"Maite\", \"Juana\", \"Ana\", \"Begoña\", \"Rafa's\", \"Damián\", \"Pepe\"]"
   ]
  },
  {
   "cell_type": "code",
   "execution_count": null,
   "id": "reasonable-paradise",
   "metadata": {},
   "outputs": [],
   "source": [
    "# Se pueden crear Arrays mixtos\n",
    "mix = [1, 2.0, \"Juan\"]"
   ]
  },
  {
   "cell_type": "code",
   "execution_count": null,
   "id": "broadband-alert",
   "metadata": {},
   "outputs": [],
   "source": [
    "mix[3] = \"Julia\"\n",
    "mix"
   ]
  },
  {
   "cell_type": "markdown",
   "id": "declared-brown",
   "metadata": {},
   "source": [
    "Podemos añadir y quitar elementos con las funciones ```push``` y ```pop```."
   ]
  },
  {
   "cell_type": "code",
   "execution_count": null,
   "id": "premier-prescription",
   "metadata": {},
   "outputs": [],
   "source": [
    "push!(fibonacci,21)"
   ]
  },
  {
   "cell_type": "code",
   "execution_count": null,
   "id": "humanitarian-anniversary",
   "metadata": {},
   "outputs": [],
   "source": [
    "pop!(fibonacci)"
   ]
  },
  {
   "cell_type": "code",
   "execution_count": null,
   "id": "compact-rogers",
   "metadata": {},
   "outputs": [],
   "source": [
    "fibonacci"
   ]
  },
  {
   "cell_type": "markdown",
   "id": "surrounded-islam",
   "metadata": {},
   "source": [
    "Los Arrays vistos son 1D. Podemos crear Arrays de Arrays, y Arrays de más dimensiones, 2D, 2D,..."
   ]
  },
  {
   "cell_type": "code",
   "execution_count": null,
   "id": "lonely-saint",
   "metadata": {},
   "outputs": [],
   "source": [
    "matrices = [[\"cuadradas\", \"rectangulares\", \"diagonales\"], [\"simétricas\", \"no simétricas\", \"definidas\"]]"
   ]
  },
  {
   "cell_type": "code",
   "execution_count": null,
   "id": "outdoor-engagement",
   "metadata": {},
   "outputs": [],
   "source": [
    "matrices[1]"
   ]
  },
  {
   "cell_type": "code",
   "execution_count": null,
   "id": "weighted-philadelphia",
   "metadata": {},
   "outputs": [],
   "source": [
    "matrices[2][3]"
   ]
  },
  {
   "cell_type": "code",
   "execution_count": null,
   "id": "thermal-interval",
   "metadata": {},
   "outputs": [],
   "source": [
    "numeros = [[1,2,3],[4,5],[6,7,8,9]]"
   ]
  },
  {
   "cell_type": "code",
   "execution_count": null,
   "id": "democratic-auckland",
   "metadata": {},
   "outputs": [],
   "source": [
    "# Listar el número 8\n"
   ]
  },
  {
   "cell_type": "markdown",
   "id": "trying-gauge",
   "metadata": {},
   "source": [
    "Veamos ejemplos de Arrays multidimensionales:"
   ]
  },
  {
   "cell_type": "code",
   "execution_count": null,
   "id": "played-brooks",
   "metadata": {},
   "outputs": [],
   "source": [
    "# 2D Array\n",
    "rand(4, 3)"
   ]
  },
  {
   "cell_type": "code",
   "execution_count": null,
   "id": "canadian-edition",
   "metadata": {},
   "outputs": [],
   "source": [
    "#2D Array con elementos del 1 al 10 aleatorios\n",
    "rand(1:10,3,3)"
   ]
  },
  {
   "cell_type": "code",
   "execution_count": null,
   "id": "related-nightlife",
   "metadata": {},
   "outputs": [],
   "source": [
    "# 3D Array\n",
    "rand(1:-1:0,4, 3, 2)"
   ]
  },
  {
   "cell_type": "markdown",
   "id": "familiar-morgan",
   "metadata": {},
   "source": [
    "Julia también nos permite crear Arrays de esta manera,"
   ]
  },
  {
   "cell_type": "code",
   "execution_count": null,
   "id": "supposed-valuable",
   "metadata": {},
   "outputs": [],
   "source": [
    "[2^x for x in 1:2:10]"
   ]
  },
  {
   "cell_type": "markdown",
   "id": "executed-replica",
   "metadata": {},
   "source": [
    "A la hora de copiar Arrays, hemos de tener en cuenta que no se realiza una copia \"nueva completa\" del array, sino que se crea otro identificador para el mismo conjunto de valores !!!"
   ]
  },
  {
   "cell_type": "code",
   "execution_count": null,
   "id": "thorough-priest",
   "metadata": {},
   "outputs": [],
   "source": [
    "numeros = fibonacci"
   ]
  },
  {
   "cell_type": "code",
   "execution_count": null,
   "id": "combined-shakespeare",
   "metadata": {},
   "outputs": [],
   "source": [
    "numeros[1] = 200"
   ]
  },
  {
   "cell_type": "code",
   "execution_count": null,
   "id": "returning-financing",
   "metadata": {},
   "outputs": [],
   "source": [
    "numeros"
   ]
  },
  {
   "cell_type": "code",
   "execution_count": null,
   "id": "pressed-football",
   "metadata": {},
   "outputs": [],
   "source": [
    "# fibonacci también ha cambiado\n",
    "fibonacci"
   ]
  },
  {
   "cell_type": "markdown",
   "id": "surprising-projector",
   "metadata": {},
   "source": [
    "Esto no ocurre con otros tipos de datos"
   ]
  },
  {
   "cell_type": "code",
   "execution_count": null,
   "id": "theoretical-uncertainty",
   "metadata": {},
   "outputs": [],
   "source": [
    "a = 1\n",
    "b = a\n",
    "b = 2\n",
    "println(a,\" \", b)"
   ]
  },
  {
   "cell_type": "markdown",
   "id": "educated-variable",
   "metadata": {},
   "source": [
    "Para hacer una nueva copia del Array, se usa la función ```copy```"
   ]
  },
  {
   "cell_type": "markdown",
   "id": "developing-proxy",
   "metadata": {},
   "source": [
    "fibonacci[1] = 1\n",
    "fibonacci"
   ]
  },
  {
   "cell_type": "code",
   "execution_count": null,
   "id": "acoustic-element",
   "metadata": {},
   "outputs": [],
   "source": [
    "numeros = copy(fibonacci)\n",
    "numeros[1] = 100\n",
    "numeros"
   ]
  },
  {
   "cell_type": "code",
   "execution_count": null,
   "id": "portable-attack",
   "metadata": {},
   "outputs": [],
   "source": [
    "fibonacci"
   ]
  },
  {
   "cell_type": "markdown",
   "id": "expensive-assets",
   "metadata": {},
   "source": [
    "**Ejercicio**. Crear un array que contenga los números 1, 2 y 3. A continuación, insertar el número 4 y eliminarlo a continuación."
   ]
  },
  {
   "cell_type": "code",
   "execution_count": null,
   "id": "round-affairs",
   "metadata": {},
   "outputs": [],
   "source": []
  }
 ],
 "metadata": {
  "kernelspec": {
   "display_name": "Julia 1.5.3",
   "language": "julia",
   "name": "julia-1.5"
  },
  "language_info": {
   "file_extension": ".jl",
   "mimetype": "application/julia",
   "name": "julia",
   "version": "1.5.3"
  }
 },
 "nbformat": 4,
 "nbformat_minor": 5
}
