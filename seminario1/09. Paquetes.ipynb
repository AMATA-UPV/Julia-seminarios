{
 "cells": [
  {
   "cell_type": "markdown",
   "metadata": {},
   "source": [
    "[![Julia](../img/julia-logo-color.png)](https://julialang.org/)\n",
    "\n",
    "# Seminario. Introducción al lenguaje Julia"
   ]
  },
  {
   "cell_type": "markdown",
   "metadata": {},
   "source": [
    "## 9. Paquetes"
   ]
  },
  {
   "cell_type": "markdown",
   "metadata": {},
   "source": [
    "## Objetivos"
   ]
  },
  {
   "cell_type": "markdown",
   "metadata": {},
   "source": [
    "- ¿Qué son?\n",
    "- Uso"
   ]
  },
  {
   "cell_type": "markdown",
   "metadata": {},
   "source": [
    "## ¿Qué son?"
   ]
  },
  {
   "cell_type": "markdown",
   "metadata": {},
   "source": [
    "Los paquetes son librerías de software que permiten extender la funcionalidad base del lenguaje Julia lo que facilita su aplicación en diferentes campos del cálculo científico, ciencia de datos,... o incluso poder utilizar software disponible para otros lenguajes como C, Fortran, Python, R,...\n",
    "\n",
    "Julia tiene más de 4000 paquetes registrados que se pueden consultar en:\n",
    "- [Juliahub](https://juliahub.com/), permite la búsqueda de todos los paquetes registrados open source, documentación, código,... Mantenido por [Julia Team](https://juliacomputing.com/products/juliateam).\n",
    "- [Julia observer](https://juliaobserver.com/)\n",
    "- [Julia packages](https://juliapackages.com/)\n",
    "- etc"
   ]
  },
  {
   "cell_type": "markdown",
   "metadata": {},
   "source": [
    "## Uso"
   ]
  },
  {
   "cell_type": "markdown",
   "metadata": {},
   "source": [
    "La primera vez que se va a usar un paquete en una instalación de Julia, se tiene añadir explícitamente con el gestor de paquetes,"
   ]
  },
  {
   "cell_type": "code",
   "execution_count": null,
   "metadata": {},
   "outputs": [],
   "source": [
    "using Pkg\n",
    "Pkg.add(\"LinearAlgebra\")"
   ]
  },
  {
   "cell_type": "markdown",
   "metadata": {},
   "source": [
    "Una vez añadido un paquete a la instalación, hay que cargarlo cada vez que se vaya a utilizar mediante la expersión"
   ]
  },
  {
   "cell_type": "code",
   "execution_count": null,
   "metadata": {},
   "outputs": [],
   "source": [
    "using LinearAlgebra"
   ]
  },
  {
   "cell_type": "markdown",
   "metadata": {},
   "source": [
    "Una vez hecho, ya podemos utilizar las funciones proporcionadas por el paquete [LinearAlgebra](https://docs.julialang.org/en/v1/stdlib/LinearAlgebra/.)"
   ]
  },
  {
   "cell_type": "code",
   "execution_count": null,
   "metadata": {},
   "outputs": [],
   "source": [
    "A = rand(5,5)\n",
    "det(A)"
   ]
  },
  {
   "cell_type": "markdown",
   "metadata": {},
   "source": [
    "### Ejercicios."
   ]
  },
  {
   "cell_type": "markdown",
   "metadata": {},
   "source": [
    "**1.** Añadir el paquete ```Colors```"
   ]
  },
  {
   "cell_type": "code",
   "execution_count": null,
   "metadata": {},
   "outputs": [],
   "source": []
  },
  {
   "cell_type": "markdown",
   "metadata": {},
   "source": [
    "**2.** Utilizar el paquete ```Colors``` para crear una matriz de colores ejecutando el siguiente código\n",
    "```julia\n",
    "paleta = distinguishable_colors(100)\n",
    "rand(paleta, 3, 3)\n",
    "```"
   ]
  },
  {
   "cell_type": "code",
   "execution_count": null,
   "metadata": {},
   "outputs": [],
   "source": []
  }
 ],
 "metadata": {
  "kernelspec": {
   "display_name": "Julia 1.5.3",
   "language": "julia",
   "name": "julia-1.5"
  },
  "language_info": {
   "file_extension": ".jl",
   "mimetype": "application/julia",
   "name": "julia",
   "version": "1.5.3"
  }
 },
 "nbformat": 4,
 "nbformat_minor": 5
}
